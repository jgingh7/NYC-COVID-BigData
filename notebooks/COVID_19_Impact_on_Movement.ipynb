{
  "nbformat": 4,
  "nbformat_minor": 0,
  "metadata": {
    "colab": {
      "name": "COVID_19_Impact_on_Movement.ipynb",
      "provenance": [],
      "collapsed_sections": []
    },
    "kernelspec": {
      "display_name": "Python 3.7.7 64-bit",
      "language": "python",
      "name": "python37764bit9193f6ad351042c397b3d6817efd27e5"
    },
    "language_info": {
      "codemirror_mode": {
        "name": "ipython",
        "version": 3
      },
      "file_extension": ".py",
      "mimetype": "text/x-python",
      "name": "python",
      "nbconvert_exporter": "python",
      "pygments_lexer": "ipython3",
      "version": "3.7.7"
    }
  },
  "cells": [
    {
      "cell_type": "code",
      "metadata": {
        "id": "WGy1FfQwNzYg"
      },
      "source": [
        "import pandas as pd\n",
        "import numpy as np\n",
        "import matplotlib.pyplot as plt\n",
        "from datetime import datetime, timedelta"
      ],
      "execution_count": 1,
      "outputs": []
    },
    {
      "cell_type": "code",
      "metadata": {
        "colab": {
          "base_uri": "https://localhost:8080/"
        },
        "id": "L77SMp6tE4nG",
        "outputId": "5ed334c3-08d1-40a4-9753-71db61a28bbd"
      },
      "source": [
        "from google.colab import drive\n",
        "drive.mount(\"/content/gdrive\")"
      ],
      "execution_count": 2,
      "outputs": [
        {
          "output_type": "stream",
          "text": [
            "Mounted at /content/gdrive\n"
          ],
          "name": "stdout"
        }
      ]
    },
    {
      "cell_type": "code",
      "metadata": {
        "colab": {
          "base_uri": "https://localhost:8080/"
        },
        "id": "-XixsPaOgIVV",
        "outputId": "11df2396-73e3-4fcf-a409-4a00b14a9c3d"
      },
      "source": [
        "pip install git+git://github.com/VIDA-NYU/openclean.git"
      ],
      "execution_count": 3,
      "outputs": [
        {
          "output_type": "stream",
          "text": [
            "Collecting git+git://github.com/VIDA-NYU/openclean.git\n",
            "  Cloning git://github.com/VIDA-NYU/openclean.git to /tmp/pip-req-build-v2uvx7on\n",
            "  Running command git clone -q git://github.com/VIDA-NYU/openclean.git /tmp/pip-req-build-v2uvx7on\n",
            "  Running command git submodule update --init --recursive -q\n",
            "Collecting openclean-core==0.3.1\n",
            "\u001b[?25l  Downloading https://files.pythonhosted.org/packages/c7/fc/927ba7f7f1052016b1f1cd0964bd099b6c5275cde9bc8238dcaa8f68ba93/openclean_core-0.3.1-py3-none-any.whl (260kB)\n",
            "\u001b[K     |████████████████████████████████| 266kB 8.4MB/s \n",
            "\u001b[?25hRequirement already satisfied: requests in /usr/local/lib/python3.7/dist-packages (from openclean-core==0.3.1->openclean==0.1.0) (2.23.0)\n",
            "Collecting jellyfish\n",
            "\u001b[?25l  Downloading https://files.pythonhosted.org/packages/30/a6/4d039bc827a102f62ce7a7910713e38fdfd7c7a40aa39c72fb14938a1473/jellyfish-0.8.2-cp37-cp37m-manylinux2014_x86_64.whl (90kB)\n",
            "\u001b[K     |████████████████████████████████| 92kB 5.7MB/s \n",
            "\u001b[?25hRequirement already satisfied: scikit-learn in /usr/local/lib/python3.7/dist-packages (from openclean-core==0.3.1->openclean==0.1.0) (0.22.2.post1)\n",
            "Collecting jsonschema>=3.2.0\n",
            "\u001b[?25l  Downloading https://files.pythonhosted.org/packages/c5/8f/51e89ce52a085483359217bc72cdbf6e75ee595d5b1d4b5ade40c7e018b8/jsonschema-3.2.0-py2.py3-none-any.whl (56kB)\n",
            "\u001b[K     |████████████████████████████████| 61kB 5.4MB/s \n",
            "\u001b[?25hRequirement already satisfied: dill in /usr/local/lib/python3.7/dist-packages (from openclean-core==0.3.1->openclean==0.1.0) (0.3.3)\n",
            "Requirement already satisfied: appdirs>=1.4.4 in /usr/local/lib/python3.7/dist-packages (from openclean-core==0.3.1->openclean==0.1.0) (1.4.4)\n",
            "Collecting histore==0.3.1\n",
            "\u001b[?25l  Downloading https://files.pythonhosted.org/packages/97/fa/af11ae933afe3996745ec93badb6d5e412d144677fd9be5ae763515b2f4b/histore-0.3.1-py3-none-any.whl (101kB)\n",
            "\u001b[K     |████████████████████████████████| 102kB 7.0MB/s \n",
            "\u001b[?25hCollecting flowserv-core>=0.8.0\n",
            "\u001b[?25l  Downloading https://files.pythonhosted.org/packages/23/46/9ec3386fb2109d26c066b24f228feb4295be1f61b0dc9a25ff28945d8a7e/flowserv_core-0.8.0-py3-none-any.whl (230kB)\n",
            "\u001b[K     |████████████████████████████████| 235kB 16.2MB/s \n",
            "\u001b[?25hRequirement already satisfied: python-dateutil in /usr/local/lib/python3.7/dist-packages (from openclean-core==0.3.1->openclean==0.1.0) (2.8.1)\n",
            "Collecting refdata>=0.2.0\n",
            "  Downloading https://files.pythonhosted.org/packages/1d/05/afe4da72b2e97c4cd667e09a6594efab41f35faa68a98c6afb8ecdbc6bcc/refdata-0.2.0-py3-none-any.whl\n",
            "Requirement already satisfied: pandas>=1.0.0 in /usr/local/lib/python3.7/dist-packages (from openclean-core==0.3.1->openclean==0.1.0) (1.1.5)\n",
            "Requirement already satisfied: scipy in /usr/local/lib/python3.7/dist-packages (from openclean-core==0.3.1->openclean==0.1.0) (1.4.1)\n",
            "Requirement already satisfied: future in /usr/local/lib/python3.7/dist-packages (from openclean-core==0.3.1->openclean==0.1.0) (0.16.0)\n",
            "Requirement already satisfied: idna<3,>=2.5 in /usr/local/lib/python3.7/dist-packages (from requests->openclean-core==0.3.1->openclean==0.1.0) (2.10)\n",
            "Requirement already satisfied: certifi>=2017.4.17 in /usr/local/lib/python3.7/dist-packages (from requests->openclean-core==0.3.1->openclean==0.1.0) (2020.12.5)\n",
            "Requirement already satisfied: urllib3!=1.25.0,!=1.25.1,<1.26,>=1.21.1 in /usr/local/lib/python3.7/dist-packages (from requests->openclean-core==0.3.1->openclean==0.1.0) (1.24.3)\n",
            "Requirement already satisfied: chardet<4,>=3.0.2 in /usr/local/lib/python3.7/dist-packages (from requests->openclean-core==0.3.1->openclean==0.1.0) (3.0.4)\n",
            "Requirement already satisfied: numpy>=1.11.0 in /usr/local/lib/python3.7/dist-packages (from scikit-learn->openclean-core==0.3.1->openclean==0.1.0) (1.19.5)\n",
            "Requirement already satisfied: joblib>=0.11 in /usr/local/lib/python3.7/dist-packages (from scikit-learn->openclean-core==0.3.1->openclean==0.1.0) (1.0.1)\n",
            "Requirement already satisfied: attrs>=17.4.0 in /usr/local/lib/python3.7/dist-packages (from jsonschema>=3.2.0->openclean-core==0.3.1->openclean==0.1.0) (20.3.0)\n",
            "Requirement already satisfied: importlib-metadata; python_version < \"3.8\" in /usr/local/lib/python3.7/dist-packages (from jsonschema>=3.2.0->openclean-core==0.3.1->openclean==0.1.0) (3.8.1)\n",
            "Requirement already satisfied: pyrsistent>=0.14.0 in /usr/local/lib/python3.7/dist-packages (from jsonschema>=3.2.0->openclean-core==0.3.1->openclean==0.1.0) (0.17.3)\n",
            "Requirement already satisfied: six>=1.11.0 in /usr/local/lib/python3.7/dist-packages (from jsonschema>=3.2.0->openclean-core==0.3.1->openclean==0.1.0) (1.15.0)\n",
            "Requirement already satisfied: setuptools in /usr/local/lib/python3.7/dist-packages (from jsonschema>=3.2.0->openclean-core==0.3.1->openclean==0.1.0) (54.2.0)\n",
            "Requirement already satisfied: Click>=7.0 in /usr/local/lib/python3.7/dist-packages (from histore==0.3.1->openclean-core==0.3.1->openclean==0.1.0) (7.1.2)\n",
            "Requirement already satisfied: psutil in /usr/local/lib/python3.7/dist-packages (from histore==0.3.1->openclean-core==0.3.1->openclean==0.1.0) (5.4.8)\n",
            "Requirement already satisfied: SQLAlchemy>=1.3.18 in /usr/local/lib/python3.7/dist-packages (from histore==0.3.1->openclean-core==0.3.1->openclean==0.1.0) (1.4.3)\n",
            "Requirement already satisfied: pyyaml in /usr/local/lib/python3.7/dist-packages (from histore==0.3.1->openclean-core==0.3.1->openclean==0.1.0) (3.13)\n",
            "Collecting passlib\n",
            "\u001b[?25l  Downloading https://files.pythonhosted.org/packages/3b/a4/ab6b7589382ca3df236e03faa71deac88cae040af60c071a78d254a62172/passlib-1.7.4-py2.py3-none-any.whl (525kB)\n",
            "\u001b[K     |████████████████████████████████| 532kB 16.9MB/s \n",
            "\u001b[?25hCollecting gitpython\n",
            "\u001b[?25l  Downloading https://files.pythonhosted.org/packages/a6/99/98019716955ba243657daedd1de8f3a88ca1f5b75057c38e959db22fb87b/GitPython-3.1.14-py3-none-any.whl (159kB)\n",
            "\u001b[K     |████████████████████████████████| 163kB 30.2MB/s \n",
            "\u001b[?25hCollecting datasize>=1.0.0\n",
            "\u001b[?25l  Downloading https://files.pythonhosted.org/packages/91/32/2e3a423003fb9b8fe703641ff0f33197caba606ae5cd6cc4ae380e892487/datasize-1.0.0.tar.gz (149kB)\n",
            "\u001b[K     |████████████████████████████████| 153kB 39.2MB/s \n",
            "\u001b[?25hRequirement already satisfied: pooch>=1.3.0 in /usr/local/lib/python3.7/dist-packages (from refdata>=0.2.0->openclean-core==0.3.1->openclean==0.1.0) (1.3.0)\n",
            "Collecting tableprint\n",
            "  Downloading https://files.pythonhosted.org/packages/e4/9f/e61234cc4a1e2c7c8ade391828a66ef8e4cfef4bd586def359d03895d916/tableprint-0.9.1-py3-none-any.whl\n",
            "Requirement already satisfied: pytz>=2017.2 in /usr/local/lib/python3.7/dist-packages (from pandas>=1.0.0->openclean-core==0.3.1->openclean==0.1.0) (2018.9)\n",
            "Requirement already satisfied: zipp>=0.5 in /usr/local/lib/python3.7/dist-packages (from importlib-metadata; python_version < \"3.8\"->jsonschema>=3.2.0->openclean-core==0.3.1->openclean==0.1.0) (3.4.1)\n",
            "Requirement already satisfied: typing-extensions>=3.6.4; python_version < \"3.8\" in /usr/local/lib/python3.7/dist-packages (from importlib-metadata; python_version < \"3.8\"->jsonschema>=3.2.0->openclean-core==0.3.1->openclean==0.1.0) (3.7.4.3)\n",
            "Requirement already satisfied: greenlet!=0.4.17; python_version >= \"3\" in /usr/local/lib/python3.7/dist-packages (from SQLAlchemy>=1.3.18->histore==0.3.1->openclean-core==0.3.1->openclean==0.1.0) (1.0.0)\n",
            "Collecting gitdb<5,>=4.0.1\n",
            "\u001b[?25l  Downloading https://files.pythonhosted.org/packages/ea/e8/f414d1a4f0bbc668ed441f74f44c116d9816833a48bf81d22b697090dba8/gitdb-4.0.7-py3-none-any.whl (63kB)\n",
            "\u001b[K     |████████████████████████████████| 71kB 6.6MB/s \n",
            "\u001b[?25hRequirement already satisfied: packaging in /usr/local/lib/python3.7/dist-packages (from pooch>=1.3.0->refdata>=0.2.0->openclean-core==0.3.1->openclean==0.1.0) (20.9)\n",
            "Requirement already satisfied: wcwidth in /usr/local/lib/python3.7/dist-packages (from tableprint->refdata>=0.2.0->openclean-core==0.3.1->openclean==0.1.0) (0.2.5)\n",
            "Collecting smmap<5,>=3.0.1\n",
            "  Downloading https://files.pythonhosted.org/packages/68/ee/d540eb5e5996eb81c26ceffac6ee49041d473bc5125f2aa995cf51ec1cf1/smmap-4.0.0-py2.py3-none-any.whl\n",
            "Requirement already satisfied: pyparsing>=2.0.2 in /usr/local/lib/python3.7/dist-packages (from packaging->pooch>=1.3.0->refdata>=0.2.0->openclean-core==0.3.1->openclean==0.1.0) (2.4.7)\n",
            "Building wheels for collected packages: openclean, datasize\n",
            "  Building wheel for openclean (setup.py) ... \u001b[?25l\u001b[?25hdone\n",
            "  Created wheel for openclean: filename=openclean-0.1.0-cp37-none-any.whl size=4897 sha256=e8bc0acb2acd7abcec2826664d840a85704da2e497ebfc7e5cbc5332b54b8807\n",
            "  Stored in directory: /tmp/pip-ephem-wheel-cache-vhah7ok5/wheels/5f/de/0d/3f94f0323cd128a09f597f9c646d4d57e62845deb0136fb223\n",
            "  Building wheel for datasize (setup.py) ... \u001b[?25l\u001b[?25hdone\n",
            "  Created wheel for datasize: filename=datasize-1.0.0-py2.py3-none-any.whl size=155029 sha256=827a76a399370832eeb7674e5f20721e33c106e1d101ba191b27495a3dae5aff\n",
            "  Stored in directory: /root/.cache/pip/wheels/b9/a1/a3/97bc5bd191a248dc72fe842abb780935d79fdf9aeee265f1e8\n",
            "Successfully built openclean datasize\n",
            "\u001b[31mERROR: nbclient 0.5.3 has requirement jupyter-client>=6.1.5, but you'll have jupyter-client 5.3.5 which is incompatible.\u001b[0m\n",
            "\u001b[31mERROR: flowserv-core 0.8.0 has requirement pyyaml>=5.1, but you'll have pyyaml 3.13 which is incompatible.\u001b[0m\n",
            "\u001b[31mERROR: refdata 0.2.0 has requirement pyyaml>=5.1, but you'll have pyyaml 3.13 which is incompatible.\u001b[0m\n",
            "Installing collected packages: jellyfish, jsonschema, histore, passlib, smmap, gitdb, gitpython, flowserv-core, datasize, tableprint, refdata, openclean-core, openclean\n",
            "  Found existing installation: jsonschema 2.6.0\n",
            "    Uninstalling jsonschema-2.6.0:\n",
            "      Successfully uninstalled jsonschema-2.6.0\n",
            "Successfully installed datasize-1.0.0 flowserv-core-0.8.0 gitdb-4.0.7 gitpython-3.1.14 histore-0.3.1 jellyfish-0.8.2 jsonschema-3.2.0 openclean-0.1.0 openclean-core-0.3.1 passlib-1.7.4 refdata-0.2.0 smmap-4.0.0 tableprint-0.9.1\n"
          ],
          "name": "stdout"
        }
      ]
    },
    {
      "cell_type": "markdown",
      "metadata": {
        "id": "qthTCqazNzYm"
      },
      "source": [
        "## Import data"
      ]
    },
    {
      "cell_type": "code",
      "metadata": {
        "id": "gk4kfoBANzYm"
      },
      "source": [
        "# Initialize dataframe with MTA data file from 03/20/2021\n",
        "mta_df = pd.read_csv(\"http://web.mta.info/developers/data/nyct/turnstile/turnstile_210320.txt\")"
      ],
      "execution_count": 4,
      "outputs": []
    },
    {
      "cell_type": "code",
      "metadata": {
        "id": "RQyce0K_NzYn"
      },
      "source": [
        "## Read in rest of MTA data, dating back to 01/02/2020 (earliest date in COVID database)\n",
        "\n",
        "# Earliest date in COVID database\n",
        "start_date = datetime(2020, 1, 2)\n",
        "# Up to initial date of mta_df\n",
        "end_date = datetime(2021, 3, 19)\n",
        "\n",
        "# Concatenate data files\n",
        "for i in range(int((end_date - start_date).days)):\n",
        "  curr_date = end_date - timedelta(i)\n",
        "  \n",
        "  try:\n",
        "    # Read in current data file\n",
        "    curr_df = pd.read_csv(\"http://web.mta.info/developers/data/nyct/turnstile/turnstile_{}.txt\".format(curr_date.strftime(\"%y%m%d\")))\n",
        "  except:\n",
        "    continue\n",
        "  \n",
        "  # Concatenate data files\n",
        "  mta_df = pd.concat([mta_df, curr_df], axis=0)"
      ],
      "execution_count": 5,
      "outputs": []
    },
    {
      "cell_type": "markdown",
      "metadata": {
        "id": "A1XpRmKENzYp"
      },
      "source": [
        "## Preliminary data profiling & cleaning"
      ]
    },
    {
      "cell_type": "code",
      "metadata": {
        "colab": {
          "base_uri": "https://localhost:8080/",
          "height": 204
        },
        "id": "Rm6tLTIcNzYq",
        "outputId": "67c714d3-8c4d-4fd8-c252-a0a96a18b198"
      },
      "source": [
        "# Check rows\n",
        "mta_df.head()"
      ],
      "execution_count": 6,
      "outputs": [
        {
          "output_type": "execute_result",
          "data": {
            "text/html": [
              "<div>\n",
              "<style scoped>\n",
              "    .dataframe tbody tr th:only-of-type {\n",
              "        vertical-align: middle;\n",
              "    }\n",
              "\n",
              "    .dataframe tbody tr th {\n",
              "        vertical-align: top;\n",
              "    }\n",
              "\n",
              "    .dataframe thead th {\n",
              "        text-align: right;\n",
              "    }\n",
              "</style>\n",
              "<table border=\"1\" class=\"dataframe\">\n",
              "  <thead>\n",
              "    <tr style=\"text-align: right;\">\n",
              "      <th></th>\n",
              "      <th>C/A</th>\n",
              "      <th>UNIT</th>\n",
              "      <th>SCP</th>\n",
              "      <th>STATION</th>\n",
              "      <th>LINENAME</th>\n",
              "      <th>DIVISION</th>\n",
              "      <th>DATE</th>\n",
              "      <th>TIME</th>\n",
              "      <th>DESC</th>\n",
              "      <th>ENTRIES</th>\n",
              "      <th>EXITS</th>\n",
              "    </tr>\n",
              "  </thead>\n",
              "  <tbody>\n",
              "    <tr>\n",
              "      <th>0</th>\n",
              "      <td>A002</td>\n",
              "      <td>R051</td>\n",
              "      <td>02-00-00</td>\n",
              "      <td>59 ST</td>\n",
              "      <td>NQR456W</td>\n",
              "      <td>BMT</td>\n",
              "      <td>03/13/2021</td>\n",
              "      <td>03:00:00</td>\n",
              "      <td>REGULAR</td>\n",
              "      <td>7543925</td>\n",
              "      <td>2573549</td>\n",
              "    </tr>\n",
              "    <tr>\n",
              "      <th>1</th>\n",
              "      <td>A002</td>\n",
              "      <td>R051</td>\n",
              "      <td>02-00-00</td>\n",
              "      <td>59 ST</td>\n",
              "      <td>NQR456W</td>\n",
              "      <td>BMT</td>\n",
              "      <td>03/13/2021</td>\n",
              "      <td>07:00:00</td>\n",
              "      <td>REGULAR</td>\n",
              "      <td>7543931</td>\n",
              "      <td>2573559</td>\n",
              "    </tr>\n",
              "    <tr>\n",
              "      <th>2</th>\n",
              "      <td>A002</td>\n",
              "      <td>R051</td>\n",
              "      <td>02-00-00</td>\n",
              "      <td>59 ST</td>\n",
              "      <td>NQR456W</td>\n",
              "      <td>BMT</td>\n",
              "      <td>03/13/2021</td>\n",
              "      <td>11:00:00</td>\n",
              "      <td>REGULAR</td>\n",
              "      <td>7543970</td>\n",
              "      <td>2573622</td>\n",
              "    </tr>\n",
              "    <tr>\n",
              "      <th>3</th>\n",
              "      <td>A002</td>\n",
              "      <td>R051</td>\n",
              "      <td>02-00-00</td>\n",
              "      <td>59 ST</td>\n",
              "      <td>NQR456W</td>\n",
              "      <td>BMT</td>\n",
              "      <td>03/13/2021</td>\n",
              "      <td>15:00:00</td>\n",
              "      <td>REGULAR</td>\n",
              "      <td>7544072</td>\n",
              "      <td>2573700</td>\n",
              "    </tr>\n",
              "    <tr>\n",
              "      <th>4</th>\n",
              "      <td>A002</td>\n",
              "      <td>R051</td>\n",
              "      <td>02-00-00</td>\n",
              "      <td>59 ST</td>\n",
              "      <td>NQR456W</td>\n",
              "      <td>BMT</td>\n",
              "      <td>03/13/2021</td>\n",
              "      <td>19:00:00</td>\n",
              "      <td>REGULAR</td>\n",
              "      <td>7544219</td>\n",
              "      <td>2573729</td>\n",
              "    </tr>\n",
              "  </tbody>\n",
              "</table>\n",
              "</div>"
            ],
            "text/plain": [
              "    C/A  ... EXITS                                                               \n",
              "0  A002  ...                                            2573549                  \n",
              "1  A002  ...                                            2573559                  \n",
              "2  A002  ...                                            2573622                  \n",
              "3  A002  ...                                            2573700                  \n",
              "4  A002  ...                                            2573729                  \n",
              "\n",
              "[5 rows x 11 columns]"
            ]
          },
          "metadata": {
            "tags": []
          },
          "execution_count": 6
        }
      ]
    },
    {
      "cell_type": "code",
      "metadata": {
        "colab": {
          "base_uri": "https://localhost:8080/"
        },
        "id": "QNhjy3m7NzYz",
        "outputId": "d571ed77-c814-42fb-cbb3-a8467d23fd24"
      },
      "source": [
        "# Check info\n",
        "mta_df.info()"
      ],
      "execution_count": 7,
      "outputs": [
        {
          "output_type": "stream",
          "text": [
            "<class 'pandas.core.frame.DataFrame'>\n",
            "Int64Index: 13330595 entries, 0 to 206498\n",
            "Data columns (total 11 columns):\n",
            " #   Column                                                                Dtype \n",
            "---  ------                                                                ----- \n",
            " 0   C/A                                                                   object\n",
            " 1   UNIT                                                                  object\n",
            " 2   SCP                                                                   object\n",
            " 3   STATION                                                               object\n",
            " 4   LINENAME                                                              object\n",
            " 5   DIVISION                                                              object\n",
            " 6   DATE                                                                  object\n",
            " 7   TIME                                                                  object\n",
            " 8   DESC                                                                  object\n",
            " 9   ENTRIES                                                               int64 \n",
            " 10  EXITS                                                                 int64 \n",
            "dtypes: int64(2), object(9)\n",
            "memory usage: 1.2+ GB\n"
          ],
          "name": "stdout"
        }
      ]
    },
    {
      "cell_type": "code",
      "metadata": {
        "id": "oWrunATwNzY0"
      },
      "source": [
        "# Convert column names to lowercase & strip whitespace\n",
        "mta_df.rename(columns=lambda x: x.lower().rstrip(), inplace=True)"
      ],
      "execution_count": 8,
      "outputs": []
    },
    {
      "cell_type": "code",
      "metadata": {
        "id": "OpfLNUm2NzY0"
      },
      "source": [
        "# Reset index values\n",
        "mta_df = mta_df.reset_index(drop=True)"
      ],
      "execution_count": 9,
      "outputs": []
    },
    {
      "cell_type": "code",
      "metadata": {
        "id": "geyQpMk4e_Ok"
      },
      "source": [
        "# Convert date column to datetime\n",
        "mta_df['date'] = pd.to_datetime(mta_df['date'], format=\"%m/%d/%Y\")"
      ],
      "execution_count": 10,
      "outputs": []
    },
    {
      "cell_type": "code",
      "metadata": {
        "colab": {
          "base_uri": "https://localhost:8080/"
        },
        "id": "XIKFJy_mNzY1",
        "outputId": "0bc97ade-3924-483f-a957-2acdfd391cf6"
      },
      "source": [
        "# Confirm formatting changes\n",
        "mta_df.info()"
      ],
      "execution_count": 11,
      "outputs": [
        {
          "output_type": "stream",
          "text": [
            "<class 'pandas.core.frame.DataFrame'>\n",
            "RangeIndex: 13330595 entries, 0 to 13330594\n",
            "Data columns (total 11 columns):\n",
            " #   Column    Dtype         \n",
            "---  ------    -----         \n",
            " 0   c/a       object        \n",
            " 1   unit      object        \n",
            " 2   scp       object        \n",
            " 3   station   object        \n",
            " 4   linename  object        \n",
            " 5   division  object        \n",
            " 6   date      datetime64[ns]\n",
            " 7   time      object        \n",
            " 8   desc      object        \n",
            " 9   entries   int64         \n",
            " 10  exits     int64         \n",
            "dtypes: datetime64[ns](1), int64(2), object(8)\n",
            "memory usage: 1.1+ GB\n"
          ],
          "name": "stdout"
        }
      ]
    },
    {
      "cell_type": "code",
      "metadata": {
        "colab": {
          "base_uri": "https://localhost:8080/"
        },
        "id": "m2c8PcQLNzY3",
        "outputId": "d4ebd2fb-190d-43a3-9a2a-fb5365bb5a68"
      },
      "source": [
        "# Extract min date\n",
        "mta_df['date'].min()"
      ],
      "execution_count": 12,
      "outputs": [
        {
          "output_type": "execute_result",
          "data": {
            "text/plain": [
              "Timestamp('2019-12-28 00:00:00')"
            ]
          },
          "metadata": {
            "tags": []
          },
          "execution_count": 12
        }
      ]
    },
    {
      "cell_type": "code",
      "metadata": {
        "id": "sIC1jIcyNzY3"
      },
      "source": [
        "# Remove records whose dates go back too far\n",
        "mta_df = mta_df[mta_df['date'] >= datetime(2020, 1, 2)]"
      ],
      "execution_count": 13,
      "outputs": []
    },
    {
      "cell_type": "code",
      "metadata": {
        "colab": {
          "base_uri": "https://localhost:8080/"
        },
        "id": "IMt7gZ3lNzY3",
        "outputId": "bba99561-6a8a-47c6-ff80-d159614349fb"
      },
      "source": [
        "# Confirm acceptable min date\n",
        "mta_df['date'].min()"
      ],
      "execution_count": 14,
      "outputs": [
        {
          "output_type": "execute_result",
          "data": {
            "text/plain": [
              "Timestamp('2020-01-02 00:00:00')"
            ]
          },
          "metadata": {
            "tags": []
          },
          "execution_count": 14
        }
      ]
    },
    {
      "cell_type": "code",
      "metadata": {
        "colab": {
          "base_uri": "https://localhost:8080/"
        },
        "id": "Xdv5n7TONzY5",
        "outputId": "bf5151b6-bd1c-4c1f-a575-f8e5f21b3b3f"
      },
      "source": [
        "# Inspect station names\n",
        "pd.set_option('max_rows', None)\n",
        "print(mta_df['station'].value_counts())\n",
        "\n",
        "print(\"\\nThere are {} unique values in this list of NYC subway stations\".format(len(mta_df['station'].unique())))"
      ],
      "execution_count": 15,
      "outputs": [
        {
          "output_type": "stream",
          "text": [
            "34 ST-PENN STA     266676\n",
            "FULTON ST          256070\n",
            "GRD CNTRL-42 ST    214262\n",
            "23 ST              193872\n",
            "86 ST              170689\n",
            "CANAL ST           153816\n",
            "CHAMBERS ST        145630\n",
            "34 ST-HERALD SQ    144036\n",
            "59 ST              136657\n",
            "42 ST-PORT AUTH    135380\n",
            "14 ST              135314\n",
            "ATL AV-BARCLAY     133386\n",
            "WALL ST            131817\n",
            "TIMES SQ-42 ST     117402\n",
            "125 ST             113919\n",
            "PATH NEW WTC       113640\n",
            "14 ST-UNION SQ     109069\n",
            "59 ST COLUMBUS     108924\n",
            "CORTLANDT ST       103357\n",
            "28 ST              102942\n",
            "JAY ST-METROTEC    100603\n",
            "CHURCH AV           98422\n",
            "96 ST               98356\n",
            "161/YANKEE STAD     98240\n",
            "47-50 STS ROCK      96560\n",
            "50 ST               95751\n",
            "METS-WILLETS PT     94401\n",
            "WTC-CORTLANDT       93011\n",
            "LEXINGTON AV/53     85150\n",
            "KINGS HWY           79789\n",
            "34 ST-HUDSON YD     79121\n",
            "BOWLING GREEN       77368\n",
            "72 ST               77103\n",
            "JAMAICA 179 ST      76736\n",
            "BOROUGH HALL        72853\n",
            "FLUSHING-MAIN       69680\n",
            "8 AV                68695\n",
            "ST. GEORGE          68332\n",
            "HARRISON            68221\n",
            "QUEENS PLAZA        67785\n",
            "COURT SQ            65914\n",
            "FOREST HILLS 71     65282\n",
            "JKSN HT-ROOSVLT     64543\n",
            "JOURNAL SQUARE      64167\n",
            "49 ST               63927\n",
            "FT HAMILTON PKY     61294\n",
            "135 ST              61251\n",
            "51 ST               61140\n",
            "66 ST-LINCOLN       60834\n",
            "33 ST               58950\n",
            "116 ST              58595\n",
            "LACKAWANNA          57738\n",
            "CITY / BUS          57448\n",
            "JAMAICA CENTER      56846\n",
            "SOUTH FERRY         56281\n",
            "42 ST-BRYANT PK     56129\n",
            "5 AV/53 ST          55771\n",
            "7 AV                55708\n",
            "BERGEN ST           55481\n",
            "DEKALB AV           55122\n",
            "CONEY IS-STILLW     53926\n",
            "KEW GARDENS         53642\n",
            "FLATBUSH AV-B.C     53469\n",
            "57 ST-7 AV          53073\n",
            "RECTOR ST           53048\n",
            "145 ST              52970\n",
            "168 ST              52831\n",
            "EXCHANGE PLACE      52709\n",
            "B'WAY-LAFAYETTE     52551\n",
            "1 AV                52164\n",
            "METROPOLITAN AV     51433\n",
            "BAY PKWY            50950\n",
            "CLINTON-WASH AV     50857\n",
            "AVENUE U            50834\n",
            "DELANCEY/ESSEX      50552\n",
            "W 4 ST-WASH SQ      50530\n",
            "77 ST               50451\n",
            "LEXINGTON AV/63     50319\n",
            "CROWN HTS-UTICA     49263\n",
            "GROVE STREET        48187\n",
            "18 AV               47829\n",
            "WORLD TRADE CTR     47393\n",
            "WOODHAVEN BLVD      46561\n",
            "KINGSBRIDGE RD      45606\n",
            "NEWARK BM BW        45351\n",
            "FRANKLIN AV         45333\n",
            "NEWARK C            45259\n",
            "NEWARK HW BMEBE     45246\n",
            "BROOKLYN BRIDGE     45231\n",
            "72 ST-2 AVE         45155\n",
            "MARCY AV            45110\n",
            "THIRTY THIRD ST     45094\n",
            "NEWARK HM HE        44931\n",
            "FLUSHING AV         44807\n",
            "THIRTY ST           44314\n",
            "111 ST              42719\n",
            "96 ST-2 AVE         42646\n",
            "36 ST               42535\n",
            "57 ST               42510\n",
            "HOUSTON ST          42453\n",
            "175 ST              42330\n",
            "FORDHAM RD          42253\n",
            "HOWARD BCH JFK      41471\n",
            "SUTPHIN-ARCHER      41461\n",
            "169 ST              41286\n",
            "WHITEHALL S-FRY     40519\n",
            "AVENUE H            40297\n",
            "63 DR-REGO PARK     40227\n",
            "103 ST              39942\n",
            "46 ST               39852\n",
            "86 ST-2 AVE         39830\n",
            "3 AV-149 ST         39313\n",
            "BEDFORD AV          38358\n",
            "NASSAU AV           38245\n",
            "170 ST              38227\n",
            "GRAND ST            37284\n",
            "5 AV/59 ST          37229\n",
            "68ST-HUNTER CO      37207\n",
            "79 ST               37205\n",
            "CATHEDRAL PKWY      37171\n",
            "SPRING ST           37141\n",
            "BRIGHTON BEACH      37124\n",
            "ASTORIA BLVD        37062\n",
            "VERNON-JACKSON      35048\n",
            "AVENUE J            34689\n",
            "ROCKAWAY AV         34599\n",
            "MYRTLE-WYCKOFF      34527\n",
            "NEW UTRECHT AV      34488\n",
            "PROSPECT AV         34131\n",
            "PARSONS BLVD        34032\n",
            "BEDFORD PK BLVD     33943\n",
            "8 ST-NYU            33554\n",
            "UTICA AV            33350\n",
            "15 ST-PROSPECT      32410\n",
            "61 ST WOODSIDE      32127\n",
            "ELMHURST AV         32099\n",
            "JUNCTION BLVD       32083\n",
            "PARKCHESTER         32038\n",
            "46 ST BLISS ST      32000\n",
            "ASTOR PL            31930\n",
            "LORIMER ST          31913\n",
            "BROAD ST            31910\n",
            "GRAND-NEWTOWN       31846\n",
            "PELHAM PKWY         31800\n",
            "HOYT ST             31780\n",
            "CANARSIE-ROCKAW     31681\n",
            "GREENPOINT AV       31358\n",
            "4AV-9 ST            30111\n",
            "NOSTRAND AV         29940\n",
            "EAST BROADWAY       29408\n",
            "167 ST              29224\n",
            "HALSEY ST           29204\n",
            "CARROLL ST          29171\n",
            "INWOOD-207 ST       29160\n",
            "GUN HILL RD         29139\n",
            "181 ST              28170\n",
            "BROADWAY            28065\n",
            "14TH STREET         27363\n",
            "82 ST-JACKSON H     27140\n",
            "SUTPHIN BLVD        26862\n",
            "LAFAYETTE AV        26783\n",
            "67 AV               26747\n",
            "HUNTERS PT AV       26737\n",
            "PRINCE ST           26703\n",
            "137 ST CITY COL     26700\n",
            "33 ST-RAWSON ST     26698\n",
            "OZONE PK LEFFRT     26673\n",
            "HUNTS POINT AV      26615\n",
            "5 AVE               26589\n",
            "SIMPSON ST          26556\n",
            "2 AV                26554\n",
            "AVENUE M            26536\n",
            "75 AV               26525\n",
            "231 ST              26468\n",
            "81 ST-MUSEUM        26404\n",
            "CHRISTOPHER ST      26021\n",
            "JFK JAMAICA CT1     26004\n",
            "90 ST-ELMHURST      24744\n",
            "BLEECKER ST         24415\n",
            "BAY RIDGE-95 ST     24212\n",
            "PARK PLACE          24143\n",
            "NEVINS ST           24111\n",
            "SHEEPSHEAD BAY      24076\n",
            "104 ST              24045\n",
            "ROCKAWAY BLVD       23976\n",
            "CITY HALL           23969\n",
            "103 ST-CORONA       23963\n",
            "174-175 STS         23934\n",
            "MOSHOLU PKWY        23930\n",
            "STEINWAY ST         23926\n",
            "NORTHERN BLVD       23923\n",
            "TREMONT AV          23890\n",
            "DYCKMAN ST          23872\n",
            "PELHAM BAY PARK     23863\n",
            "WEST FARMS SQ       23648\n",
            "NEWKIRK AV          23238\n",
            "TWENTY THIRD ST     22154\n",
            "PAVONIA/NEWPORT     21887\n",
            "FRESH POND RD       21728\n",
            "155 ST              21604\n",
            "BAY RIDGE AV        21357\n",
            "EASTN PKWY-MUSM     21346\n",
            "NORWOOD 205 ST      21343\n",
            "PROSPECT PARK       21338\n",
            "53 ST               21314\n",
            "BRIARWOOD           21298\n",
            "69 ST               21292\n",
            "163 ST-AMSTERDM     21290\n",
            "EUCLID AV           21254\n",
            "18 ST               21253\n",
            "W 8 ST-AQUARIUM     21248\n",
            "FRANKLIN ST         21213\n",
            "ASTORIA DITMARS     21125\n",
            "157 ST              21084\n",
            "DITMAS AV           21013\n",
            "AVENUE N            18946\n",
            "FAR ROCKAWAY        18807\n",
            "HEWES ST            18797\n",
            "9 AV                18794\n",
            "BEDFORD-NOSTRAN     18671\n",
            "BROADWAY JCT        18661\n",
            "30 AV               18660\n",
            "NECK RD             18622\n",
            "BROOK AV            18609\n",
            "20 AV               18609\n",
            "VAN SICLEN AV       18596\n",
            "JAMAICA VAN WK      18588\n",
            "149/GRAND CONC      18581\n",
            "TOMPKINSVILLE       18576\n",
            "CASTLE HILL AV      18568\n",
            "80 ST               18541\n",
            "MYRTLE-WILLOUGH     18462\n",
            "OCEAN PKWY          18317\n",
            "GRAHAM AV           16598\n",
            "36 AV               16407\n",
            "ST LAWRENCE AV      16297\n",
            "MORGAN AV           16246\n",
            "21 ST-QNSBRIDGE     16192\n",
            "QUEENSBORO PLZ      16151\n",
            "40 ST LOWERY ST     16148\n",
            "SUTTER AV-RUTLD     16097\n",
            "KINGSTON-THROOP     16039\n",
            "25 ST               15997\n",
            "NEW LOTS AV         15973\n",
            "RIT-ROOSEVELT       15970\n",
            "SMITH-9 ST          15964\n",
            "ROOSEVELT ISLND     15960\n",
            "ELDER AV            15957\n",
            "HIGH ST             15956\n",
            "CENTRAL PK N110     15946\n",
            "110 ST              15944\n",
            "MIDDLETOWN RD       15942\n",
            "E 180 ST            15940\n",
            "E 143/ST MARY'S     15936\n",
            "3 AV                15936\n",
            "ZEREGA AV           15933\n",
            "121 ST              15930\n",
            "WHITLOCK AV         15927\n",
            "CYPRESS AV          15927\n",
            "174 ST              15922\n",
            "UNION ST            15921\n",
            "39 AV               15920\n",
            "BUHRE AV            15920\n",
            "FREEMAN ST          15913\n",
            "238 ST              15889\n",
            "AQUEDUCT RACETR     15881\n",
            "52 ST               15874\n",
            "207 ST              15869\n",
            "MORISN AV/SNDVW     15857\n",
            "116 ST-COLUMBIA     15826\n",
            "E 149 ST            15786\n",
            "LONGWOOD AV         14766\n",
            "75 ST-ELDERTS       13874\n",
            "NEWKIRK PLAZA       13593\n",
            "BEACH 90 ST         13523\n",
            "BEACH 60 ST         13443\n",
            "AVENUE I            13429\n",
            "JEFFERSON ST        13390\n",
            "BEACH 44 ST         13368\n",
            "HOYT-SCHER          13365\n",
            "BEACH 98 ST         13351\n",
            "LIVONIA AV          13343\n",
            "BEACH 67 ST         13335\n",
            "74 ST-BROADWAY      13322\n",
            "71 ST               13302\n",
            "WOODLAWN            13299\n",
            "233 ST              13296\n",
            "6 AV                13285\n",
            "WILSON AV           13283\n",
            "ROCKAWAY PARK B     13279\n",
            "BEACH 25 ST         13279\n",
            "SARATOGA AV         13277\n",
            "WAKEFIELD/241       13268\n",
            "BEACH 105 ST        13265\n",
            "BEACH 36 ST         13263\n",
            "JACKSON AV          13257\n",
            "MARBLE HILL-225     13249\n",
            "AQUEDUCT N.COND     13245\n",
            "EASTCHSTER/DYRE     13242\n",
            "BURNSIDE AV         12808\n",
            "PATH WTC 2          12423\n",
            "9TH STREET          12411\n",
            "COURT SQ-23 ST      12077\n",
            "45 ST               10897\n",
            "WINTHROP ST         10762\n",
            "SENECA AVE          10700\n",
            "85 ST-FOREST PK     10687\n",
            "KNICKERBOCKER       10681\n",
            "CLARK ST            10676\n",
            "CENTRAL AV          10665\n",
            "MYRTLE AV           10661\n",
            "JUNIUS ST           10647\n",
            "RALPH AV            10645\n",
            "BEVERLY RD          10642\n",
            "EAST 105 ST         10641\n",
            "PENNSYLVANIA AV     10636\n",
            "GRAND ARMY PLAZ     10634\n",
            "4 AV-9 ST           10634\n",
            "183 ST              10630\n",
            "3 AV 138 ST         10627\n",
            "BOTANIC GARDEN      10615\n",
            "RIT-MANHATTAN       10614\n",
            "GRANT AV            10613\n",
            "V.CORTLANDT PK      10595\n",
            "MT EDEN AV          10589\n",
            "191 ST              10577\n",
            "215 ST              10406\n",
            "176 ST              10380\n",
            "BAY 50 ST            8212\n",
            "NORWOOD AV           8206\n",
            "MONTROSE AV          8116\n",
            "CRESCENT ST          8070\n",
            "219 ST               8054\n",
            "PRESIDENT ST         8053\n",
            "STERLING ST          8036\n",
            "HARLEM 148 ST        8012\n",
            "65 ST                8007\n",
            "25 AV                8004\n",
            "VAN SICLEN AVE       7992\n",
            "GATES AV             7991\n",
            "21 ST                7983\n",
            "190 ST               7980\n",
            "NEPTUNE AV           7979\n",
            "225 ST               7978\n",
            "PARKSIDE AV          7976\n",
            "ALLERTON AV          7976\n",
            "YORK ST              7975\n",
            "ALABAMA AV           7974\n",
            "BEVERLEY ROAD        7974\n",
            "FOREST AVE           7974\n",
            "AVENUE P             7973\n",
            "BOWERY               7972\n",
            "KOSCIUSZKO ST        7971\n",
            "AVENUE X             7971\n",
            "CHAUNCEY ST          7969\n",
            "NEW LOTS             7968\n",
            "SHEPHERD AV          7968\n",
            "BAYCHESTER AV        7968\n",
            "CLASSON AV           7967\n",
            "KINGSTON AV          7967\n",
            "NEREID AV            7967\n",
            "BURKE AV             7966\n",
            "ATLANTIC AV          7966\n",
            "WESTCHESTER SQ       7965\n",
            "INTERVALE AV         7963\n",
            "BROAD CHANNEL        7959\n",
            "LIBERTY AV           7956\n",
            "CORTELYOU RD         7956\n",
            "BUSHWICK AV          7956\n",
            "CYPRESS HILLS        7953\n",
            "55 ST                7949\n",
            "BRONX PARK EAST      7944\n",
            "182-183 STS          7943\n",
            "138/GRAND CONC       7940\n",
            "MORRIS PARK          7935\n",
            "88 ST                7844\n",
            "SUTTER AV            5313\n",
            "CLEVELAND ST         5312\n",
            "ORCHARD BEACH        3385\n",
            "Name: station, dtype: int64\n",
            "\n",
            "There are 379 unique values in this list of NYC subway stations\n"
          ],
          "name": "stdout"
        }
      ]
    },
    {
      "cell_type": "code",
      "metadata": {
        "id": "ajdF51mnNzY5"
      },
      "source": [
        "# `entries` and `exits` are cumulative counts --> aggregate counts to daily by turnstile\n",
        "daily_entries_by_turnstile = mta_df.groupby(['c/a', 'unit', 'scp', 'station', 'linename', 'date']).max('entries') - mta_df.groupby(['c/a', 'unit', 'scp', 'station', 'linename', 'date']).min('entries')\n",
        "daily_exits_by_turnstile = mta_df.groupby(['c/a', 'unit', 'scp', 'station', 'linename', 'date']).max('exits') - mta_df.groupby(['c/a', 'unit', 'scp', 'station', 'linename', 'date']).min('exits')"
      ],
      "execution_count": 16,
      "outputs": []
    },
    {
      "cell_type": "code",
      "metadata": {
        "id": "CKRM25KSNzY6"
      },
      "source": [
        "# Flatten dataframes for merge operation\n",
        "daily_entries_by_turnstile.reset_index(inplace=True)\n",
        "daily_exits_by_turnstile.reset_index(inplace=True)"
      ],
      "execution_count": 17,
      "outputs": []
    },
    {
      "cell_type": "code",
      "metadata": {
        "colab": {
          "base_uri": "https://localhost:8080/",
          "height": 204
        },
        "id": "Msxahgr5hUBk",
        "outputId": "8d0a6096-3d18-4cd9-8860-f0ad4e9d5fd3"
      },
      "source": [
        "# Check daily_entries_by_turnstile rows\n",
        "daily_entries_by_turnstile.head()"
      ],
      "execution_count": 18,
      "outputs": [
        {
          "output_type": "execute_result",
          "data": {
            "text/html": [
              "<div>\n",
              "<style scoped>\n",
              "    .dataframe tbody tr th:only-of-type {\n",
              "        vertical-align: middle;\n",
              "    }\n",
              "\n",
              "    .dataframe tbody tr th {\n",
              "        vertical-align: top;\n",
              "    }\n",
              "\n",
              "    .dataframe thead th {\n",
              "        text-align: right;\n",
              "    }\n",
              "</style>\n",
              "<table border=\"1\" class=\"dataframe\">\n",
              "  <thead>\n",
              "    <tr style=\"text-align: right;\">\n",
              "      <th></th>\n",
              "      <th>c/a</th>\n",
              "      <th>unit</th>\n",
              "      <th>scp</th>\n",
              "      <th>station</th>\n",
              "      <th>linename</th>\n",
              "      <th>date</th>\n",
              "      <th>entries</th>\n",
              "      <th>exits</th>\n",
              "    </tr>\n",
              "  </thead>\n",
              "  <tbody>\n",
              "    <tr>\n",
              "      <th>0</th>\n",
              "      <td>A002</td>\n",
              "      <td>R051</td>\n",
              "      <td>02-00-00</td>\n",
              "      <td>59 ST</td>\n",
              "      <td>NQR456W</td>\n",
              "      <td>2020-01-02</td>\n",
              "      <td>1355</td>\n",
              "      <td>460</td>\n",
              "    </tr>\n",
              "    <tr>\n",
              "      <th>1</th>\n",
              "      <td>A002</td>\n",
              "      <td>R051</td>\n",
              "      <td>02-00-00</td>\n",
              "      <td>59 ST</td>\n",
              "      <td>NQR456W</td>\n",
              "      <td>2020-01-03</td>\n",
              "      <td>1262</td>\n",
              "      <td>459</td>\n",
              "    </tr>\n",
              "    <tr>\n",
              "      <th>2</th>\n",
              "      <td>A002</td>\n",
              "      <td>R051</td>\n",
              "      <td>02-00-00</td>\n",
              "      <td>59 ST</td>\n",
              "      <td>NQR456W</td>\n",
              "      <td>2020-01-04</td>\n",
              "      <td>738</td>\n",
              "      <td>317</td>\n",
              "    </tr>\n",
              "    <tr>\n",
              "      <th>3</th>\n",
              "      <td>A002</td>\n",
              "      <td>R051</td>\n",
              "      <td>02-00-00</td>\n",
              "      <td>59 ST</td>\n",
              "      <td>NQR456W</td>\n",
              "      <td>2020-01-05</td>\n",
              "      <td>546</td>\n",
              "      <td>214</td>\n",
              "    </tr>\n",
              "    <tr>\n",
              "      <th>4</th>\n",
              "      <td>A002</td>\n",
              "      <td>R051</td>\n",
              "      <td>02-00-00</td>\n",
              "      <td>59 ST</td>\n",
              "      <td>NQR456W</td>\n",
              "      <td>2020-01-06</td>\n",
              "      <td>1313</td>\n",
              "      <td>523</td>\n",
              "    </tr>\n",
              "  </tbody>\n",
              "</table>\n",
              "</div>"
            ],
            "text/plain": [
              "    c/a  unit       scp station linename       date  entries  exits\n",
              "0  A002  R051  02-00-00   59 ST  NQR456W 2020-01-02     1355    460\n",
              "1  A002  R051  02-00-00   59 ST  NQR456W 2020-01-03     1262    459\n",
              "2  A002  R051  02-00-00   59 ST  NQR456W 2020-01-04      738    317\n",
              "3  A002  R051  02-00-00   59 ST  NQR456W 2020-01-05      546    214\n",
              "4  A002  R051  02-00-00   59 ST  NQR456W 2020-01-06     1313    523"
            ]
          },
          "metadata": {
            "tags": []
          },
          "execution_count": 18
        }
      ]
    },
    {
      "cell_type": "code",
      "metadata": {
        "id": "P9c4hwsANzY6"
      },
      "source": [
        "# Group by station, linename, date for aggregate daily count by station\n",
        "daily_traffic_df = pd.merge(daily_entries_by_turnstile, daily_exits_by_turnstile, how='outer').groupby(['station', 'linename', 'date']).sum().reset_index()"
      ],
      "execution_count": 19,
      "outputs": []
    },
    {
      "cell_type": "code",
      "metadata": {
        "colab": {
          "base_uri": "https://localhost:8080/"
        },
        "id": "YTI-RNz5Qk--",
        "outputId": "fff44b80-a958-45a1-aa45-bd35a34456a3"
      },
      "source": [
        "# Check daily_traffic_df info\n",
        "daily_traffic_df.info()"
      ],
      "execution_count": 20,
      "outputs": [
        {
          "output_type": "stream",
          "text": [
            "<class 'pandas.core.frame.DataFrame'>\n",
            "RangeIndex: 211680 entries, 0 to 211679\n",
            "Data columns (total 5 columns):\n",
            " #   Column    Non-Null Count   Dtype         \n",
            "---  ------    --------------   -----         \n",
            " 0   station   211680 non-null  object        \n",
            " 1   linename  211680 non-null  object        \n",
            " 2   date      211680 non-null  datetime64[ns]\n",
            " 3   entries   211680 non-null  int64         \n",
            " 4   exits     211680 non-null  int64         \n",
            "dtypes: datetime64[ns](1), int64(2), object(2)\n",
            "memory usage: 8.1+ MB\n"
          ],
          "name": "stdout"
        }
      ]
    },
    {
      "cell_type": "code",
      "metadata": {
        "colab": {
          "base_uri": "https://localhost:8080/"
        },
        "id": "UZkMj7tfiBNz",
        "outputId": "21830229-09f7-4f6d-da63-57e95d995c12"
      },
      "source": [
        "# Analyze unique values of subway station and trainline combos\n",
        "station_line_values = daily_traffic_df.value_counts(subset=['station', 'linename']).sort_index()\n",
        "\n",
        "print(station_line_values)\n",
        "print(\"\\nThere are {} unique values in this list of NYC subway stations and trainlines\".format(len(station_line_values)))"
      ],
      "execution_count": 21,
      "outputs": [
        {
          "output_type": "stream",
          "text": [
            "station          linename    \n",
            "1 AV             L               443\n",
            "103 ST           1               443\n",
            "                 6               443\n",
            "                 BC              443\n",
            "103 ST-CORONA    7               443\n",
            "104 ST           A               443\n",
            "                 JZ              443\n",
            "110 ST           6               443\n",
            "111 ST           7               443\n",
            "                 A               443\n",
            "                 J               443\n",
            "116 ST           23              443\n",
            "                 6               443\n",
            "                 BC              443\n",
            "116 ST-COLUMBIA  1               441\n",
            "121 ST           JZ              443\n",
            "125 ST           1               443\n",
            "                 23              443\n",
            "                 456             443\n",
            "                 ACBD            443\n",
            "135 ST           23              443\n",
            "                 BC              443\n",
            "137 ST CITY COL  1               443\n",
            "138/GRAND CONC   45              443\n",
            "14 ST            123FLM          443\n",
            "                 ACEL            443\n",
            "                 FLM123          443\n",
            "14 ST-UNION SQ   456LNQRW        443\n",
            "                 LNQR456W        443\n",
            "145 ST           1               443\n",
            "                 3               443\n",
            "                 ABCD            443\n",
            "149/GRAND CONC   245             443\n",
            "14TH STREET      1               443\n",
            "15 ST-PROSPECT   FG              443\n",
            "155 ST           BD              443\n",
            "                 C               443\n",
            "157 ST           1               439\n",
            "161/YANKEE STAD  4BD             443\n",
            "                 BD4             443\n",
            "163 ST-AMSTERDM  C               443\n",
            "167 ST           4               443\n",
            "                 BD              443\n",
            "168 ST           1AC             443\n",
            "                 AC1             443\n",
            "169 ST           F               443\n",
            "170 ST           4               443\n",
            "                 BD              443\n",
            "174 ST           25              443\n",
            "174-175 STS      BD              443\n",
            "175 ST           A               443\n",
            "176 ST           4               443\n",
            "18 AV            D               443\n",
            "                 F               443\n",
            "                 N               443\n",
            "18 ST            1               443\n",
            "181 ST           1               339\n",
            "                 A               443\n",
            "182-183 STS      BD              443\n",
            "183 ST           4               443\n",
            "190 ST           A               443\n",
            "191 ST           1               442\n",
            "2 AV             F               443\n",
            "20 AV            D               443\n",
            "                 N               443\n",
            "207 ST           1               442\n",
            "21 ST            G               443\n",
            "21 ST-QNSBRIDGE  F               443\n",
            "215 ST           1               436\n",
            "219 ST           25              443\n",
            "225 ST           25              443\n",
            "23 ST            1               443\n",
            "                 6               443\n",
            "                 CE              443\n",
            "                 FM              443\n",
            "                 NRW             443\n",
            "231 ST           1               443\n",
            "233 ST           25              443\n",
            "238 ST           1               443\n",
            "25 AV            D               443\n",
            "25 ST            R               443\n",
            "28 ST            1               443\n",
            "                 6               443\n",
            "                 NRW             443\n",
            "3 AV             L               443\n",
            "3 AV 138 ST      6               443\n",
            "3 AV-149 ST      25              441\n",
            "30 AV            NQW             443\n",
            "33 ST            6               443\n",
            "33 ST-RAWSON ST  7               443\n",
            "34 ST-HERALD SQ  BDFMNQRW        443\n",
            "34 ST-HUDSON YD  7               443\n",
            "34 ST-PENN STA   123             443\n",
            "                 123ACE          443\n",
            "                 ACE             443\n",
            "36 AV            NQW             443\n",
            "36 ST            DNR             443\n",
            "                 MR              443\n",
            "39 AV            NQW             443\n",
            "4 AV-9 ST        DFGMNR          443\n",
            "40 ST LOWERY ST  7               443\n",
            "42 ST-BRYANT PK  BDFM7           443\n",
            "42 ST-PORT AUTH  ACENGRS1237W    441\n",
            "                 ACENQRS1237W    443\n",
            "45 ST            R               443\n",
            "46 ST            MR              443\n",
            "46 ST BLISS ST   7               443\n",
            "47-50 STS ROCK   BDFM            443\n",
            "49 ST            NQRW            443\n",
            "4AV-9 ST         DFGMNR          443\n",
            "5 AV/53 ST       EM              443\n",
            "5 AV/59 ST       NQRW            443\n",
            "5 AVE            7BDFM           443\n",
            "50 ST            1               443\n",
            "                 CE              443\n",
            "                 D               443\n",
            "51 ST            6               443\n",
            "52 ST            7               443\n",
            "53 ST            R               443\n",
            "55 ST            D               443\n",
            "57 ST            F               443\n",
            "57 ST-7 AV       NQRW            443\n",
            "59 ST            456NQRW         443\n",
            "                 NQR456W         442\n",
            "                 NRW             442\n",
            "59 ST COLUMBUS   1ABCD           443\n",
            "                 ABCD1           443\n",
            "6 AV             FLM123          443\n",
            "61 ST WOODSIDE   7               443\n",
            "63 DR-REGO PARK  MR              443\n",
            "65 ST            MR              443\n",
            "66 ST-LINCOLN    1               443\n",
            "67 AV            MR              443\n",
            "68ST-HUNTER CO   6               443\n",
            "69 ST            7               443\n",
            "7 AV             BDE             443\n",
            "                 BQ              442\n",
            "                 FG              443\n",
            "71 ST            D               443\n",
            "72 ST            123             443\n",
            "                 BC              439\n",
            "72 ST-2 AVE      Q               443\n",
            "74 ST-BROADWAY   7EFMR           443\n",
            "75 AV            EF              443\n",
            "75 ST-ELDERTS    JZ              442\n",
            "77 ST            6               443\n",
            "                 R               443\n",
            "79 ST            1               440\n",
            "                 D               442\n",
            "8 AV             ACEL            443\n",
            "                 N               436\n",
            "8 ST-NYU         NRW             443\n",
            "80 ST            A               443\n",
            "81 ST-MUSEUM     BC              443\n",
            "82 ST-JACKSON H  7               443\n",
            "85 ST-FOREST PK  J               441\n",
            "86 ST            1               443\n",
            "                 456             443\n",
            "                 BC              443\n",
            "                 N               443\n",
            "                 R               443\n",
            "86 ST-2 AVE      Q               443\n",
            "88 ST            A               443\n",
            "9 AV             D               443\n",
            "90 ST-ELMHURST   7               443\n",
            "96 ST            123             443\n",
            "                 6               443\n",
            "                 BC              443\n",
            "96 ST-2 AVE      Q               443\n",
            "9TH STREET       1               443\n",
            "ALABAMA AV       J               443\n",
            "ALLERTON AV      25              443\n",
            "AQUEDUCT N.COND  A               443\n",
            "AQUEDUCT RACETR  A               443\n",
            "ASTOR PL         6               443\n",
            "ASTORIA BLVD     NQW             443\n",
            "ASTORIA DITMARS  NQW             443\n",
            "ATL AV-BARCLAY   2345BDNQR       443\n",
            "                 BDNQR2345       443\n",
            "ATLANTIC AV      L               443\n",
            "AVENUE H         BQ              443\n",
            "AVENUE I         F               443\n",
            "AVENUE J         BQ              443\n",
            "AVENUE M         BQ              443\n",
            "AVENUE N         F               443\n",
            "AVENUE P         F               443\n",
            "AVENUE U         BQ              443\n",
            "                 F               443\n",
            "                 N               443\n",
            "AVENUE X         F               443\n",
            "B'WAY-LAFAYETTE  BDFQ6           440\n",
            "BAY 50 ST        D               443\n",
            "BAY PKWY         D               443\n",
            "                 F               443\n",
            "                 N               443\n",
            "BAY RIDGE AV     R               443\n",
            "BAY RIDGE-95 ST  R               440\n",
            "BAYCHESTER AV    5               443\n",
            "BEACH 105 ST     AS              443\n",
            "BEACH 25 ST      A               443\n",
            "BEACH 36 ST      A               443\n",
            "BEACH 44 ST      A               443\n",
            "BEACH 60 ST      A               443\n",
            "BEACH 67 ST      A               443\n",
            "BEACH 90 ST      AS              443\n",
            "BEACH 98 ST      AS              443\n",
            "BEDFORD AV       L               443\n",
            "BEDFORD PK BLVD  4               443\n",
            "                 BD              443\n",
            "BEDFORD-NOSTRAN  G               443\n",
            "BERGEN ST        23              443\n",
            "                 FG              443\n",
            "BEVERLEY ROAD    BQ              443\n",
            "BEVERLY RD       25              443\n",
            "BLEECKER ST      6DF             443\n",
            "BOROUGH HALL     2345R           443\n",
            "                 R2345           443\n",
            "BOTANIC GARDEN   S2345           443\n",
            "BOWERY           JZ              443\n",
            "BOWLING GREEN    45              443\n",
            "BRIARWOOD        EF              443\n",
            "BRIGHTON BEACH   BQ              443\n",
            "BROAD CHANNEL    AS              443\n",
            "BROAD ST         JZ              443\n",
            "BROADWAY         G               443\n",
            "                 NQW             443\n",
            "BROADWAY JCT     ACJLZ           443\n",
            "BRONX PARK EAST  25              443\n",
            "BROOK AV         6               443\n",
            "BROOKLYN BRIDGE  456JZ           443\n",
            "BUHRE AV         6               443\n",
            "BURKE AV         25              443\n",
            "BURNSIDE AV      4               443\n",
            "BUSHWICK AV      L               443\n",
            "CANAL ST         1               443\n",
            "                 ACE             443\n",
            "                 JNQRZ6W         443\n",
            "CANARSIE-ROCKAW  L               436\n",
            "CARROLL ST       FG              443\n",
            "CASTLE HILL AV   6               443\n",
            "CATHEDRAL PKWY   1               443\n",
            "                 BC              443\n",
            "CENTRAL AV       M               443\n",
            "CENTRAL PK N110  23              443\n",
            "CHAMBERS ST      123             443\n",
            "                 ACE23           441\n",
            "                 JZ456           443\n",
            "CHAUNCEY ST      JZ              443\n",
            "CHRISTOPHER ST   1               443\n",
            "CHURCH AV        25              443\n",
            "                 BQ              442\n",
            "                 FG              443\n",
            "CITY / BUS       1               443\n",
            "CITY HALL        NRW             443\n",
            "CLARK ST         23              443\n",
            "CLASSON AV       G               443\n",
            "CLEVELAND ST     J               443\n",
            "CLINTON-WASH AV  C               443\n",
            "                 G               443\n",
            "CONEY IS-STILLW  DFNQ            443\n",
            "CORTELYOU RD     BQ              443\n",
            "CORTLANDT ST     RNW             443\n",
            "COURT SQ         7               443\n",
            "                 EMG             443\n",
            "COURT SQ-23 ST   EMG             443\n",
            "CRESCENT ST      JZ              443\n",
            "CROWN HTS-UTICA  34              443\n",
            "CYPRESS AV       6               443\n",
            "CYPRESS HILLS    J               443\n",
            "DEKALB AV        BDNQR           443\n",
            "                 L               443\n",
            "DELANCEY/ESSEX   FJMZ            443\n",
            "DITMAS AV        F               443\n",
            "DYCKMAN ST       1               443\n",
            "                 A               443\n",
            "E 143/ST MARY'S  6               443\n",
            "E 149 ST         6               439\n",
            "E 180 ST         25              443\n",
            "EAST 105 ST      L               443\n",
            "EAST BROADWAY    F               443\n",
            "EASTCHSTER/DYRE  5               443\n",
            "EASTN PKWY-MUSM  23              442\n",
            "ELDER AV         6               443\n",
            "ELMHURST AV      MR              443\n",
            "EUCLID AV        AC              443\n",
            "EXCHANGE PLACE   1               443\n",
            "FAR ROCKAWAY     A               443\n",
            "FLATBUSH AV-B.C  25              443\n",
            "FLUSHING AV      G               443\n",
            "                 JM              438\n",
            "FLUSHING-MAIN    7               443\n",
            "FORDHAM RD       4               443\n",
            "                 BD              443\n",
            "FOREST AVE       M               443\n",
            "FOREST HILLS 71  EFMR            443\n",
            "FRANKLIN AV      2345S           443\n",
            "                 ACS             443\n",
            "FRANKLIN ST      1               443\n",
            "FREEMAN ST       25              443\n",
            "FRESH POND RD    M               443\n",
            "FT HAMILTON PKY  D               443\n",
            "                 FG              443\n",
            "                 N               443\n",
            "FULTON ST        2345ACJZ        443\n",
            "                 ACJZ2345        443\n",
            "                 G               443\n",
            "GATES AV         JZ              443\n",
            "GRAHAM AV        L               443\n",
            "GRAND ARMY PLAZ  23              443\n",
            "GRAND ST         BD              443\n",
            "                 L               443\n",
            "GRAND-NEWTOWN    MR              443\n",
            "GRANT AV         A               443\n",
            "GRD CNTRL-42 ST  4567S           443\n",
            "GREENPOINT AV    G               443\n",
            "GROVE STREET     1               443\n",
            "GUN HILL RD      25              443\n",
            "                 5               440\n",
            "HALSEY ST        J               443\n",
            "                 L               443\n",
            "HARLEM 148 ST    3               443\n",
            "HARRISON         1               443\n",
            "HEWES ST         JM              443\n",
            "HIGH ST          AC              443\n",
            "HOUSTON ST       1               443\n",
            "HOWARD BCH JFK   A               443\n",
            "HOYT ST          23              443\n",
            "HOYT-SCHER       ACG             443\n",
            "HUNTERS PT AV    7               443\n",
            "HUNTS POINT AV   6               443\n",
            "INTERVALE AV     25              443\n",
            "INWOOD-207 ST    A               443\n",
            "JACKSON AV       25              443\n",
            "JAMAICA 179 ST   F               443\n",
            "JAMAICA CENTER   EJZ             443\n",
            "JAMAICA VAN WK   E               442\n",
            "JAY ST-METROTEC  ACF             443\n",
            "                 R               443\n",
            "JEFFERSON ST     L               443\n",
            "JFK JAMAICA CT1  E               443\n",
            "JKSN HT-ROOSVLT  EFMR7           443\n",
            "JOURNAL SQUARE   1               443\n",
            "JUNCTION BLVD    7               443\n",
            "JUNIUS ST        3               443\n",
            "KEW GARDENS      EF              443\n",
            "KINGS HWY        BQ              443\n",
            "                 F               443\n",
            "                 N               443\n",
            "KINGSBRIDGE RD   4               443\n",
            "                 BD              443\n",
            "KINGSTON AV      3               443\n",
            "KINGSTON-THROOP  C               443\n",
            "KNICKERBOCKER    M               443\n",
            "KOSCIUSZKO ST    J               443\n",
            "LACKAWANNA       1               443\n",
            "LAFAYETTE AV     C               443\n",
            "LEXINGTON AV/53  EM6             443\n",
            "LEXINGTON AV/63  F               443\n",
            "LIBERTY AV       C               443\n",
            "LIVONIA AV       L               443\n",
            "LONGWOOD AV      6               443\n",
            "LORIMER ST       JM              443\n",
            "                 LG              442\n",
            "MARBLE HILL-225  1               442\n",
            "MARCY AV         JMZ             443\n",
            "METROPOLITAN AV  GL              443\n",
            "                 M               443\n",
            "METS-WILLETS PT  7               443\n",
            "MIDDLETOWN RD    6               443\n",
            "MONTROSE AV      L               443\n",
            "MORGAN AV        L               443\n",
            "MORISN AV/SNDVW  6               443\n",
            "MORRIS PARK      5               441\n",
            "MOSHOLU PKWY     4               443\n",
            "MT EDEN AV       4               443\n",
            "MYRTLE AV        JMZ             443\n",
            "MYRTLE-WILLOUGH  G               443\n",
            "MYRTLE-WYCKOFF   LM              443\n",
            "NASSAU AV        G               443\n",
            "NECK RD          BQ              443\n",
            "NEPTUNE AV       F               443\n",
            "NEREID AV        25              443\n",
            "NEVINS ST        2345            443\n",
            "NEW LOTS         L               443\n",
            "NEW LOTS AV      3               443\n",
            "NEW UTRECHT AV   ND              443\n",
            "NEWARK BM BW     1               443\n",
            "NEWARK C         1               443\n",
            "NEWARK HM HE     1               443\n",
            "NEWARK HW BMEBE  1               443\n",
            "NEWKIRK AV       25              443\n",
            "NEWKIRK PLAZA    BQ              443\n",
            "NORTHERN BLVD    MR              443\n",
            "NORWOOD 205 ST   D               443\n",
            "NORWOOD AV       JZ              443\n",
            "NOSTRAND AV      3               443\n",
            "                 AC              443\n",
            "OCEAN PKWY       Q               443\n",
            "ORCHARD BEACH    6               114\n",
            "OZONE PK LEFFRT  A               443\n",
            "PARK PLACE       23ACE           440\n",
            "                 S               443\n",
            "PARKCHESTER      6               443\n",
            "PARKSIDE AV      BQ              443\n",
            "PARSONS BLVD     F               443\n",
            "PATH NEW WTC     1               443\n",
            "PATH WTC 2       1               443\n",
            "PAVONIA/NEWPORT  1               443\n",
            "PELHAM BAY PARK  6               443\n",
            "PELHAM PKWY      25              443\n",
            "                 5               442\n",
            "PENNSYLVANIA AV  3               443\n",
            "PRESIDENT ST     25              443\n",
            "PRINCE ST        NRW             443\n",
            "PROSPECT AV      25              443\n",
            "                 R               443\n",
            "PROSPECT PARK    BQS             443\n",
            "QUEENS PLAZA     EMR             443\n",
            "QUEENSBORO PLZ   7NQW            443\n",
            "RALPH AV         C               443\n",
            "RECTOR ST        1               443\n",
            "                 NRW             443\n",
            "RIT-MANHATTAN    R               443\n",
            "RIT-ROOSEVELT    R               443\n",
            "ROCKAWAY AV      3               443\n",
            "                 C               441\n",
            "ROCKAWAY BLVD    A               443\n",
            "ROCKAWAY PARK B  AS              443\n",
            "ROOSEVELT ISLND  F               443\n",
            "SARATOGA AV      3               443\n",
            "SENECA AVE       M               443\n",
            "SHEEPSHEAD BAY   BQ              443\n",
            "SHEPHERD AV      C               443\n",
            "SIMPSON ST       25              443\n",
            "SMITH-9 ST       FG              443\n",
            "SOUTH FERRY      1RW             443\n",
            "SPRING ST        6               443\n",
            "                 CE              443\n",
            "ST LAWRENCE AV   6               443\n",
            "ST. GEORGE       1               443\n",
            "STEINWAY ST      MR              443\n",
            "STERLING ST      25              443\n",
            "SUTPHIN BLVD     F               443\n",
            "SUTPHIN-ARCHER   EJZ             443\n",
            "SUTTER AV        L               443\n",
            "SUTTER AV-RUTLD  3               441\n",
            "THIRTY ST        1               443\n",
            "THIRTY THIRD ST  1               443\n",
            "TIMES SQ-42 ST   1237ACENQRS     443\n",
            "                 1237ACENQRSW    443\n",
            "                 ACENQRS1237W    443\n",
            "TOMPKINSVILLE    1               442\n",
            "TREMONT AV       BD              443\n",
            "TWENTY THIRD ST  1               443\n",
            "UNION ST         R               443\n",
            "UTICA AV         AC              443\n",
            "V.CORTLANDT PK   1               443\n",
            "VAN SICLEN AV    3               443\n",
            "                 JZ              443\n",
            "VAN SICLEN AVE   C               443\n",
            "VERNON-JACKSON   7               443\n",
            "W 4 ST-WASH SQ   ABCDEFM         443\n",
            "W 8 ST-AQUARIUM  FQ              443\n",
            "WAKEFIELD/241    2               443\n",
            "WALL ST          23              443\n",
            "                 45              443\n",
            "WEST FARMS SQ    25              443\n",
            "WESTCHESTER SQ   6               443\n",
            "WHITEHALL S-FRY  R1W             443\n",
            "WHITLOCK AV      6               443\n",
            "WILSON AV        L               443\n",
            "WINTHROP ST      25              443\n",
            "WOODHAVEN BLVD   JZ              443\n",
            "                 MR              443\n",
            "WOODLAWN         4               443\n",
            "WORLD TRADE CTR  ACE23           442\n",
            "WTC-CORTLANDT    1               443\n",
            "YORK ST          F               443\n",
            "ZEREGA AV        6               443\n",
            "dtype: int64\n",
            "\n",
            "There are 479 unique values in this list of NYC subway stations and trainlines\n"
          ],
          "name": "stdout"
        }
      ]
    },
    {
      "cell_type": "markdown",
      "metadata": {
        "id": "TzSLLSy3NzY9"
      },
      "source": [
        "## Data profiling & cleaning with OpenClean"
      ]
    },
    {
      "cell_type": "code",
      "metadata": {
        "id": "zei8WHnpNzY-"
      },
      "source": [
        "from openclean.pipeline import stream\n",
        "\n",
        "# Create openclean data stream\n",
        "ds = stream(daily_traffic_df)"
      ],
      "execution_count": 22,
      "outputs": []
    },
    {
      "cell_type": "code",
      "metadata": {
        "colab": {
          "base_uri": "https://localhost:8080/",
          "height": 359
        },
        "id": "iiw6fDdtNzY-",
        "outputId": "74ed5886-0e31-4058-c810-66640258238b"
      },
      "source": [
        "# Check rows\n",
        "ds.head()"
      ],
      "execution_count": 23,
      "outputs": [
        {
          "output_type": "execute_result",
          "data": {
            "text/html": [
              "<div>\n",
              "<style scoped>\n",
              "    .dataframe tbody tr th:only-of-type {\n",
              "        vertical-align: middle;\n",
              "    }\n",
              "\n",
              "    .dataframe tbody tr th {\n",
              "        vertical-align: top;\n",
              "    }\n",
              "\n",
              "    .dataframe thead th {\n",
              "        text-align: right;\n",
              "    }\n",
              "</style>\n",
              "<table border=\"1\" class=\"dataframe\">\n",
              "  <thead>\n",
              "    <tr style=\"text-align: right;\">\n",
              "      <th></th>\n",
              "      <th>station</th>\n",
              "      <th>linename</th>\n",
              "      <th>date</th>\n",
              "      <th>entries</th>\n",
              "      <th>exits</th>\n",
              "    </tr>\n",
              "  </thead>\n",
              "  <tbody>\n",
              "    <tr>\n",
              "      <th>0</th>\n",
              "      <td>1 AV</td>\n",
              "      <td>L</td>\n",
              "      <td>2020-01-02 00:00:00</td>\n",
              "      <td>15135</td>\n",
              "      <td>17646</td>\n",
              "    </tr>\n",
              "    <tr>\n",
              "      <th>1</th>\n",
              "      <td>1 AV</td>\n",
              "      <td>L</td>\n",
              "      <td>2020-01-03 00:00:00</td>\n",
              "      <td>15611</td>\n",
              "      <td>18266</td>\n",
              "    </tr>\n",
              "    <tr>\n",
              "      <th>2</th>\n",
              "      <td>1 AV</td>\n",
              "      <td>L</td>\n",
              "      <td>2020-01-04 00:00:00</td>\n",
              "      <td>6015</td>\n",
              "      <td>7119</td>\n",
              "    </tr>\n",
              "    <tr>\n",
              "      <th>3</th>\n",
              "      <td>1 AV</td>\n",
              "      <td>L</td>\n",
              "      <td>2020-01-05 00:00:00</td>\n",
              "      <td>4724</td>\n",
              "      <td>5530</td>\n",
              "    </tr>\n",
              "    <tr>\n",
              "      <th>4</th>\n",
              "      <td>1 AV</td>\n",
              "      <td>L</td>\n",
              "      <td>2020-01-06 00:00:00</td>\n",
              "      <td>16263</td>\n",
              "      <td>18641</td>\n",
              "    </tr>\n",
              "    <tr>\n",
              "      <th>5</th>\n",
              "      <td>1 AV</td>\n",
              "      <td>L</td>\n",
              "      <td>2020-01-07 00:00:00</td>\n",
              "      <td>16612</td>\n",
              "      <td>19372</td>\n",
              "    </tr>\n",
              "    <tr>\n",
              "      <th>6</th>\n",
              "      <td>1 AV</td>\n",
              "      <td>L</td>\n",
              "      <td>2020-01-08 00:00:00</td>\n",
              "      <td>17206</td>\n",
              "      <td>20275</td>\n",
              "    </tr>\n",
              "    <tr>\n",
              "      <th>7</th>\n",
              "      <td>1 AV</td>\n",
              "      <td>L</td>\n",
              "      <td>2020-01-09 00:00:00</td>\n",
              "      <td>17463</td>\n",
              "      <td>20072</td>\n",
              "    </tr>\n",
              "    <tr>\n",
              "      <th>8</th>\n",
              "      <td>1 AV</td>\n",
              "      <td>L</td>\n",
              "      <td>2020-01-10 00:00:00</td>\n",
              "      <td>17642</td>\n",
              "      <td>20489</td>\n",
              "    </tr>\n",
              "    <tr>\n",
              "      <th>9</th>\n",
              "      <td>1 AV</td>\n",
              "      <td>L</td>\n",
              "      <td>2020-01-11 00:00:00</td>\n",
              "      <td>6971</td>\n",
              "      <td>8220</td>\n",
              "    </tr>\n",
              "  </tbody>\n",
              "</table>\n",
              "</div>"
            ],
            "text/plain": [
              "  station linename                 date entries  exits\n",
              "0    1 AV        L  2020-01-02 00:00:00   15135  17646\n",
              "1    1 AV        L  2020-01-03 00:00:00   15611  18266\n",
              "2    1 AV        L  2020-01-04 00:00:00    6015   7119\n",
              "3    1 AV        L  2020-01-05 00:00:00    4724   5530\n",
              "4    1 AV        L  2020-01-06 00:00:00   16263  18641\n",
              "5    1 AV        L  2020-01-07 00:00:00   16612  19372\n",
              "6    1 AV        L  2020-01-08 00:00:00   17206  20275\n",
              "7    1 AV        L  2020-01-09 00:00:00   17463  20072\n",
              "8    1 AV        L  2020-01-10 00:00:00   17642  20489\n",
              "9    1 AV        L  2020-01-11 00:00:00    6971   8220"
            ]
          },
          "metadata": {
            "tags": []
          },
          "execution_count": 23
        }
      ]
    },
    {
      "cell_type": "code",
      "metadata": {
        "id": "jW9Hwo_-NzY_"
      },
      "source": [
        "from openclean.profiling.column import DefaultColumnProfiler\n",
        "\n",
        "# Profile a sample of 10000 rows from dataset\n",
        "profile = ds.sample(n=10000, random_state=42).profile(default_profiler=DefaultColumnProfiler)"
      ],
      "execution_count": 24,
      "outputs": []
    },
    {
      "cell_type": "code",
      "metadata": {
        "colab": {
          "base_uri": "https://localhost:8080/",
          "height": 204
        },
        "id": "7RmH43dYNzY_",
        "outputId": "9a17c835-f395-452d-f571-8bbf4726fbe0"
      },
      "source": [
        "# Print profiling statistics\n",
        "profile.stats()"
      ],
      "execution_count": 25,
      "outputs": [
        {
          "output_type": "execute_result",
          "data": {
            "text/html": [
              "<div>\n",
              "<style scoped>\n",
              "    .dataframe tbody tr th:only-of-type {\n",
              "        vertical-align: middle;\n",
              "    }\n",
              "\n",
              "    .dataframe tbody tr th {\n",
              "        vertical-align: top;\n",
              "    }\n",
              "\n",
              "    .dataframe thead th {\n",
              "        text-align: right;\n",
              "    }\n",
              "</style>\n",
              "<table border=\"1\" class=\"dataframe\">\n",
              "  <thead>\n",
              "    <tr style=\"text-align: right;\">\n",
              "      <th></th>\n",
              "      <th>total</th>\n",
              "      <th>empty</th>\n",
              "      <th>distinct</th>\n",
              "      <th>uniqueness</th>\n",
              "      <th>entropy</th>\n",
              "    </tr>\n",
              "  </thead>\n",
              "  <tbody>\n",
              "    <tr>\n",
              "      <th>station</th>\n",
              "      <td>10000</td>\n",
              "      <td>0</td>\n",
              "      <td>379</td>\n",
              "      <td>0.0379</td>\n",
              "      <td>8.400513</td>\n",
              "    </tr>\n",
              "    <tr>\n",
              "      <th>linename</th>\n",
              "      <td>10000</td>\n",
              "      <td>0</td>\n",
              "      <td>114</td>\n",
              "      <td>0.0114</td>\n",
              "      <td>5.734558</td>\n",
              "    </tr>\n",
              "    <tr>\n",
              "      <th>date</th>\n",
              "      <td>10000</td>\n",
              "      <td>0</td>\n",
              "      <td>443</td>\n",
              "      <td>0.0443</td>\n",
              "      <td>8.761887</td>\n",
              "    </tr>\n",
              "    <tr>\n",
              "      <th>entries</th>\n",
              "      <td>10000</td>\n",
              "      <td>0</td>\n",
              "      <td>5144</td>\n",
              "      <td>0.5144</td>\n",
              "      <td>12.014902</td>\n",
              "    </tr>\n",
              "    <tr>\n",
              "      <th>exits</th>\n",
              "      <td>10000</td>\n",
              "      <td>0</td>\n",
              "      <td>4967</td>\n",
              "      <td>0.4967</td>\n",
              "      <td>11.945479</td>\n",
              "    </tr>\n",
              "  </tbody>\n",
              "</table>\n",
              "</div>"
            ],
            "text/plain": [
              "          total  empty  distinct  uniqueness    entropy\n",
              "station   10000      0       379      0.0379   8.400513\n",
              "linename  10000      0       114      0.0114   5.734558\n",
              "date      10000      0       443      0.0443   8.761887\n",
              "entries   10000      0      5144      0.5144  12.014902\n",
              "exits     10000      0      4967      0.4967  11.945479"
            ]
          },
          "metadata": {
            "tags": []
          },
          "execution_count": 25
        }
      ]
    },
    {
      "cell_type": "code",
      "metadata": {
        "colab": {
          "base_uri": "https://localhost:8080/"
        },
        "id": "_z8fBvn3NzY_",
        "outputId": "650e1dbf-ca20-405a-b01a-8040f0032813"
      },
      "source": [
        "from openclean.profiling.anomalies.sklearn import DBSCANOutliers\n",
        "\n",
        "# Search for station entries value outliers\n",
        "DBSCANOutliers(eps=0.02).find(ds.distinct('entries'))"
      ],
      "execution_count": 26,
      "outputs": [
        {
          "output_type": "execute_result",
          "data": {
            "text/plain": [
              "[0,\n",
              " 1,\n",
              " 2,\n",
              " 3,\n",
              " 4,\n",
              " 5,\n",
              " 6,\n",
              " 7,\n",
              " 8,\n",
              " 9,\n",
              " 1111,\n",
              " 10589635,\n",
              " 13868549,\n",
              " 419073952,\n",
              " 11111,\n",
              " 21409858,\n",
              " 475740000,\n",
              " 1666828816,\n",
              " 1313111,\n",
              " 1506677570,\n",
              " 631052148,\n",
              " 10198672,\n",
              " 522255]"
            ]
          },
          "metadata": {
            "tags": []
          },
          "execution_count": 26
        }
      ]
    },
    {
      "cell_type": "markdown",
      "metadata": {
        "id": "fm8Da8nxbHMo"
      },
      "source": [
        "Some of these values are nonsensically large. Let's see if we can filter out impossible values."
      ]
    },
    {
      "cell_type": "code",
      "metadata": {
        "colab": {
          "base_uri": "https://localhost:8080/",
          "height": 276
        },
        "id": "_cTEER3zVUJe",
        "outputId": "8f518f68-d023-4228-f88e-2f12f8f1ea43"
      },
      "source": [
        "# Visualize entries values\n",
        "plt.boxplot(daily_traffic_df['entries'])\n",
        "plt.show()"
      ],
      "execution_count": 27,
      "outputs": [
        {
          "output_type": "display_data",
          "data": {
            "image/png": "[encoded data removed]",
            "text/plain": [
              "<Figure size 432x288 with 1 Axes>"
            ]
          },
          "metadata": {
            "tags": [],
            "needs_background": "light"
          }
        }
      ]
    },
    {
      "cell_type": "code",
      "metadata": {
        "id": "0t7DdGgbZkSy"
      },
      "source": [
        "# 8 million people in NYC -> unlikely all of them pass through a single station on a single day. Set 8M as upper bound\n",
        "daily_traffic_df = daily_traffic_df[daily_traffic_df['entries'] <= 800000]\n",
        "\n",
        "# Refresh data stream\n",
        "ds = stream(daily_traffic_df)"
      ],
      "execution_count": 28,
      "outputs": []
    },
    {
      "cell_type": "code",
      "metadata": {
        "colab": {
          "base_uri": "https://localhost:8080/",
          "height": 265
        },
        "id": "YeDNyh5-bvz2",
        "outputId": "9fe76fcb-81a2-46b9-ca64-7845e2ac3fd4"
      },
      "source": [
        "# Re-visualize outliers\n",
        "plt.boxplot(daily_traffic_df['entries'])\n",
        "plt.show()"
      ],
      "execution_count": 29,
      "outputs": [
        {
          "output_type": "display_data",
          "data": {
            "image/png": "[encoded data removed]",
            "text/plain": [
              "<Figure size 432x288 with 1 Axes>"
            ]
          },
          "metadata": {
            "tags": [],
            "needs_background": "light"
          }
        }
      ]
    },
    {
      "cell_type": "code",
      "metadata": {
        "colab": {
          "base_uri": "https://localhost:8080/"
        },
        "id": "KE70_m_-dara",
        "outputId": "ce1eae2a-0236-40ac-ed90-b2ccedb0309c"
      },
      "source": [
        "# Search for remaining station entries value outliers\n",
        "DBSCANOutliers().find(ds.distinct('entries'))"
      ],
      "execution_count": 30,
      "outputs": [
        {
          "output_type": "execute_result",
          "data": {
            "text/plain": [
              "[0]"
            ]
          },
          "metadata": {
            "tags": []
          },
          "execution_count": 30
        }
      ]
    },
    {
      "cell_type": "code",
      "metadata": {
        "colab": {
          "base_uri": "https://localhost:8080/"
        },
        "id": "Bkgk-pdPSXxG",
        "outputId": "1b3d521f-817f-4351-9012-bc839b7066e3"
      },
      "source": [
        "# Search for station exits value outliers\n",
        "DBSCANOutliers(eps=0.02).find(ds.distinct('exits'))"
      ],
      "execution_count": 31,
      "outputs": [
        {
          "output_type": "execute_result",
          "data": {
            "text/plain": [
              "[0,\n",
              " 1,\n",
              " 2,\n",
              " 3,\n",
              " 11,\n",
              " 1111,\n",
              " 1222150,\n",
              " 1070316087,\n",
              " 6555459,\n",
              " 1100799,\n",
              " 3463493,\n",
              " 1056966762,\n",
              " 536872013,\n",
              " 285180608,\n",
              " 17134387]"
            ]
          },
          "metadata": {
            "tags": []
          },
          "execution_count": 31
        }
      ]
    },
    {
      "cell_type": "code",
      "metadata": {
        "colab": {
          "base_uri": "https://localhost:8080/",
          "height": 276
        },
        "id": "4W5GS6_oet6c",
        "outputId": "8542fd48-a6e3-4bcd-faed-f47f330161c7"
      },
      "source": [
        "# Visualize exits values\n",
        "plt.boxplot(daily_traffic_df['exits'])\n",
        "plt.show()"
      ],
      "execution_count": 32,
      "outputs": [
        {
          "output_type": "display_data",
          "data": {
            "image/png": "[encoded data removed]",
            "text/plain": [
              "<Figure size 432x288 with 1 Axes>"
            ]
          },
          "metadata": {
            "tags": [],
            "needs_background": "light"
          }
        }
      ]
    },
    {
      "cell_type": "code",
      "metadata": {
        "id": "Gn4w5oRze6Ok"
      },
      "source": [
        "# Again, set 8M as upper bound\n",
        "daily_traffic_df = daily_traffic_df[daily_traffic_df['exits'] <= 800000]\n",
        "\n",
        "# Refresh data stream\n",
        "ds = stream(daily_traffic_df)"
      ],
      "execution_count": 33,
      "outputs": []
    },
    {
      "cell_type": "code",
      "metadata": {
        "colab": {
          "base_uri": "https://localhost:8080/",
          "height": 265
        },
        "id": "BTNPEO0WfDKu",
        "outputId": "77c19a4b-7921-400b-c4c2-eee70f8c96bd"
      },
      "source": [
        "# Re-visualize outliers\n",
        "plt.boxplot(daily_traffic_df['exits'])\n",
        "plt.show()"
      ],
      "execution_count": 34,
      "outputs": [
        {
          "output_type": "display_data",
          "data": {
            "image/png": "[encoded data removed]",
            "text/plain": [
              "<Figure size 432x288 with 1 Axes>"
            ]
          },
          "metadata": {
            "tags": [],
            "needs_background": "light"
          }
        }
      ]
    },
    {
      "cell_type": "code",
      "metadata": {
        "colab": {
          "base_uri": "https://localhost:8080/"
        },
        "id": "UVsukGuJfJ06",
        "outputId": "69235513-b20d-4a92-bfea-ec15e4725f17"
      },
      "source": [
        "# Search for remaining station exits value outliers\n",
        "DBSCANOutliers().find(ds.distinct('exits'))"
      ],
      "execution_count": 35,
      "outputs": [
        {
          "output_type": "execute_result",
          "data": {
            "text/plain": [
              "[0]"
            ]
          },
          "metadata": {
            "tags": []
          },
          "execution_count": 35
        }
      ]
    },
    {
      "cell_type": "code",
      "metadata": {
        "colab": {
          "base_uri": "https://localhost:8080/"
        },
        "id": "wYbjEoaL_EXd",
        "outputId": "fe94deec-5937-41f0-b6c8-d14f703ed9a1"
      },
      "source": [
        "daily_traffic_df.info()"
      ],
      "execution_count": 36,
      "outputs": [
        {
          "output_type": "stream",
          "text": [
            "<class 'pandas.core.frame.DataFrame'>\n",
            "Int64Index: 211351 entries, 0 to 211679\n",
            "Data columns (total 5 columns):\n",
            " #   Column    Non-Null Count   Dtype         \n",
            "---  ------    --------------   -----         \n",
            " 0   station   211351 non-null  object        \n",
            " 1   linename  211351 non-null  object        \n",
            " 2   date      211351 non-null  datetime64[ns]\n",
            " 3   entries   211351 non-null  int64         \n",
            " 4   exits     211351 non-null  int64         \n",
            "dtypes: datetime64[ns](1), int64(2), object(2)\n",
            "memory usage: 9.7+ MB\n"
          ],
          "name": "stdout"
        }
      ]
    },
    {
      "cell_type": "code",
      "metadata": {
        "id": "yz1a5vLCtdZl"
      },
      "source": [
        "# Define function to concatenate stations and linenanmes\n",
        "def concat_vals(x):\n",
        "  return \"{}\".format(x['linename'].strip().replace(\" \", \"\"))\n",
        "\n",
        "# Concatenate stations and linenames to compute clusters\n",
        "daily_traffic_df['concat'] = daily_traffic_df.apply(concat_vals, axis=1)\n",
        "\n",
        "# Refresh data stream\n",
        "ds = stream(daily_traffic_df)"
      ],
      "execution_count": 37,
      "outputs": []
    },
    {
      "cell_type": "code",
      "metadata": {
        "id": "I6VnGsyCwTDL"
      },
      "source": [
        "from openclean.cluster.key import KeyCollision\n",
        "from openclean.function.value.key.fingerprint import Fingerprint\n",
        "\n",
        "# Isolate concat column\n",
        "concats = ds.select('concat')\n",
        "\n",
        "# Cluster concat column\n",
        "concat_clusters = concats.cluster(clusterer=KeyCollision(func=Fingerprint(), threads=3))"
      ],
      "execution_count": 38,
      "outputs": []
    },
    {
      "cell_type": "code",
      "metadata": {
        "id": "tUO3gpwWtdMK",
        "colab": {
          "base_uri": "https://localhost:8080/"
        },
        "outputId": "ebeed34d-7f26-42c7-89da-0b3e417a0b37"
      },
      "source": [
        "# Define simple helper method to print the k largest clusters.\n",
        "def print_k_clusters(clusters, k=10):\n",
        "    clusters = sorted(clusters, key=lambda x: len(x), reverse=True)\n",
        "    val_count = sum([len(c) for c in clusters])\n",
        "    print('Total number of clusters is {} with {} values'.format(len(clusters), val_count))\n",
        "    for i in range(min(k, len(clusters))):\n",
        "        print('\\nCluster {}'.format(i + 1))\n",
        "        for key, cnt in clusters[i].items():\n",
        "            if key == '':\n",
        "                key = \"''\"\n",
        "            print('  {} (x {})'.format(key, cnt))\n",
        "\n",
        "# Print 10 largest clusters\n",
        "print_k_clusters(concat_clusters)"
      ],
      "execution_count": 39,
      "outputs": [
        {
          "output_type": "stream",
          "text": [
            "Total number of clusters is 0 with 0 values\n"
          ],
          "name": "stdout"
        }
      ]
    },
    {
      "cell_type": "code",
      "metadata": {
        "id": "LPWdGRevtc-r"
      },
      "source": [
        "# Isolate linename column\n",
        "linenames = ds.select('linename')\n",
        "\n",
        "# Cluster concat column\n",
        "line_clusters = linenames.cluster(clusterer=KeyCollision(func=Fingerprint(), threads=3,))"
      ],
      "execution_count": 40,
      "outputs": []
    },
    {
      "cell_type": "code",
      "metadata": {
        "id": "ifS5IkvDtc4t",
        "colab": {
          "base_uri": "https://localhost:8080/"
        },
        "outputId": "9e79fbbe-efcd-4f4e-82be-bebaaf238633"
      },
      "source": [
        "# Print largest clusters\n",
        "print_k_clusters(line_clusters)"
      ],
      "execution_count": 41,
      "outputs": [
        {
          "output_type": "stream",
          "text": [
            "Total number of clusters is 0 with 0 values\n"
          ],
          "name": "stdout"
        }
      ]
    },
    {
      "cell_type": "code",
      "metadata": {
        "id": "AIdb7OCcba1V"
      },
      "source": [
        "## Clustering algorithm failed to identify linename typos -> manually correct errors with lookup table\n",
        "\n",
        "# Define function to fix linename errors\n",
        "def fix_linename(x):\n",
        "\n",
        "  # Define lookup table to fix duplicate values\n",
        "  duplicate_mapping_dict = {\n",
        "      '14 ST': {0: 'FLM123', 1: '123FLM'},\n",
        "      '14 ST-UNION SQ': {0: 'LNQR456W', 1: '456LNQRW'},\n",
        "      '161/YANKEE STAD': {0: 'BD4', 1: '4BD'},\n",
        "      '168 ST': {0: 'AC1', 1: '1AC'},\n",
        "      '42 ST-PORT AUTH': {0: 'ACENGRS1237W', 1: 'ACENQRS1237W'},\n",
        "      '59 ST COLUMBUS': {0: 'ABCD1', 1: '1ABCD'},\n",
        "      'ATL AV-BARCLAY': {0: 'BDNQR2345', 1: '2345BDNQR'},\n",
        "      'BOROUGH HALL': {0: 'R2345', 1: '2345R'},\n",
        "      'FULTON ST': {0: 'ACJZ2345', 1: '2345ACJZ'}\n",
        "  }\n",
        "\n",
        "  # Define lookup table to fix triplicate values\n",
        "  triplicate_mapping_dict = {\n",
        "      '34 ST-PENN STA': {0: '123', 1: 'ACE', 2: '123ACE'},\n",
        "      '59 ST': {0: 'NQR456W', 1: 'NRW', 2: '456NQRW'},\n",
        "      'TIMES SQ-42 ST': {0: '1237ACENQRS', 1: 'ACENQRS1237W', 2: '1237ACENQRSW'}\n",
        "  }\n",
        "\n",
        "  curr_station = x['station']\n",
        "  curr_line = x['linename']\n",
        "\n",
        "  # Fix duplicates\n",
        "  if curr_station in duplicate_mapping_dict:\n",
        "    if curr_line == duplicate_mapping_dict[curr_station][0]:\n",
        "      return duplicate_mapping_dict[curr_station][1]\n",
        "    else:\n",
        "      return curr_line\n",
        "  \n",
        "  # Fix triplicates\n",
        "  elif curr_station in triplicate_mapping_dict:\n",
        "    if curr_line == triplicate_mapping_dict[curr_station][0] or curr_line == triplicate_mapping_dict[curr_station][1]:\n",
        "      return triplicate_mapping_dict[curr_station][2]\n",
        "    else:\n",
        "      return curr_line\n",
        "  \n",
        "  else:\n",
        "    return curr_line"
      ],
      "execution_count": 42,
      "outputs": []
    },
    {
      "cell_type": "code",
      "metadata": {
        "id": "wy4K3gUXbjJ3"
      },
      "source": [
        "# Fix linenames\n",
        "daily_traffic_df['linename'] = daily_traffic_df.apply(fix_linename, axis=1)"
      ],
      "execution_count": 43,
      "outputs": []
    },
    {
      "cell_type": "code",
      "metadata": {
        "colab": {
          "base_uri": "https://localhost:8080/"
        },
        "id": "B_qA2-LobjBA",
        "outputId": "9478b2cc-57ec-4b07-98d6-d966bc2af59a"
      },
      "source": [
        "# Analyze corrected subway station and trainline combos\n",
        "station_line_values = daily_traffic_df.value_counts(subset=['station', 'linename']).sort_index()\n",
        "\n",
        "print(station_line_values)\n",
        "print(\"\\nThere are {} unique values in this list of NYC subway stations and trainlines\".format(len(station_line_values)))"
      ],
      "execution_count": 44,
      "outputs": [
        {
          "output_type": "stream",
          "text": [
            "station          linename    \n",
            "1 AV             L                443\n",
            "103 ST           1                442\n",
            "                 6                443\n",
            "                 BC               443\n",
            "103 ST-CORONA    7                443\n",
            "104 ST           A                443\n",
            "                 JZ               443\n",
            "110 ST           6                443\n",
            "111 ST           7                443\n",
            "                 A                443\n",
            "                 J                443\n",
            "116 ST           23               443\n",
            "                 6                443\n",
            "                 BC               442\n",
            "116 ST-COLUMBIA  1                441\n",
            "121 ST           JZ               443\n",
            "125 ST           1                443\n",
            "                 23               443\n",
            "                 456              442\n",
            "                 ACBD             442\n",
            "135 ST           23               442\n",
            "                 BC               441\n",
            "137 ST CITY COL  1                443\n",
            "138/GRAND CONC   45               443\n",
            "14 ST            123FLM           885\n",
            "                 ACEL             442\n",
            "14 ST-UNION SQ   456LNQRW         886\n",
            "145 ST           1                442\n",
            "                 3                443\n",
            "                 ABCD             443\n",
            "149/GRAND CONC   245              443\n",
            "14TH STREET      1                443\n",
            "15 ST-PROSPECT   FG               442\n",
            "155 ST           BD               442\n",
            "                 C                443\n",
            "157 ST           1                438\n",
            "161/YANKEE STAD  4BD              883\n",
            "163 ST-AMSTERDM  C                441\n",
            "167 ST           4                443\n",
            "                 BD               443\n",
            "168 ST           1AC              885\n",
            "169 ST           F                443\n",
            "170 ST           4                442\n",
            "                 BD               443\n",
            "174 ST           25               442\n",
            "174-175 STS      BD               443\n",
            "175 ST           A                443\n",
            "176 ST           4                442\n",
            "18 AV            D                443\n",
            "                 F                442\n",
            "                 N                443\n",
            "18 ST            1                441\n",
            "181 ST           1                339\n",
            "                 A                440\n",
            "182-183 STS      BD               443\n",
            "183 ST           4                443\n",
            "190 ST           A                443\n",
            "191 ST           1                441\n",
            "2 AV             F                442\n",
            "20 AV            D                442\n",
            "                 N                443\n",
            "207 ST           1                440\n",
            "21 ST            G                443\n",
            "21 ST-QNSBRIDGE  F                443\n",
            "215 ST           1                436\n",
            "219 ST           25               443\n",
            "225 ST           25               443\n",
            "23 ST            1                442\n",
            "                 6                443\n",
            "                 CE               442\n",
            "                 FM               443\n",
            "                 NRW              443\n",
            "231 ST           1                443\n",
            "233 ST           25               443\n",
            "238 ST           1                443\n",
            "25 AV            D                443\n",
            "25 ST            R                443\n",
            "28 ST            1                442\n",
            "                 6                442\n",
            "                 NRW              443\n",
            "3 AV             L                443\n",
            "3 AV 138 ST      6                443\n",
            "3 AV-149 ST      25               437\n",
            "30 AV            NQW              443\n",
            "33 ST            6                438\n",
            "33 ST-RAWSON ST  7                443\n",
            "34 ST-HERALD SQ  BDFMNQRW         437\n",
            "34 ST-HUDSON YD  7                443\n",
            "34 ST-PENN STA   123ACE          1319\n",
            "36 AV            NQW              443\n",
            "36 ST            DNR              443\n",
            "                 MR               443\n",
            "39 AV            NQW              441\n",
            "4 AV-9 ST        DFGMNR           443\n",
            "40 ST LOWERY ST  7                443\n",
            "42 ST-BRYANT PK  BDFM7            443\n",
            "42 ST-PORT AUTH  ACENQRS1237W     883\n",
            "45 ST            R                443\n",
            "46 ST            MR               443\n",
            "46 ST BLISS ST   7                443\n",
            "47-50 STS ROCK   BDFM             440\n",
            "49 ST            NQRW             442\n",
            "4AV-9 ST         DFGMNR           442\n",
            "5 AV/53 ST       EM               443\n",
            "5 AV/59 ST       NQRW             440\n",
            "5 AVE            7BDFM            443\n",
            "50 ST            1                441\n",
            "                 CE               442\n",
            "                 D                443\n",
            "51 ST            6                443\n",
            "52 ST            7                443\n",
            "53 ST            R                442\n",
            "55 ST            D                443\n",
            "57 ST            F                443\n",
            "57 ST-7 AV       NQRW             442\n",
            "59 ST            456NQRW         1324\n",
            "59 ST COLUMBUS   1ABCD            886\n",
            "6 AV             FLM123           442\n",
            "61 ST WOODSIDE   7                442\n",
            "63 DR-REGO PARK  MR               442\n",
            "65 ST            MR               443\n",
            "66 ST-LINCOLN    1                441\n",
            "67 AV            MR               443\n",
            "68ST-HUNTER CO   6                442\n",
            "69 ST            7                443\n",
            "7 AV             BDE              441\n",
            "                 BQ               442\n",
            "                 FG               443\n",
            "71 ST            D                443\n",
            "72 ST            123              443\n",
            "                 BC               438\n",
            "72 ST-2 AVE      Q                443\n",
            "74 ST-BROADWAY   7EFMR            443\n",
            "75 AV            EF               443\n",
            "75 ST-ELDERTS    JZ               442\n",
            "77 ST            6                443\n",
            "                 R                443\n",
            "79 ST            1                434\n",
            "                 D                441\n",
            "8 AV             ACEL             440\n",
            "                 N                436\n",
            "8 ST-NYU         NRW              442\n",
            "80 ST            A                443\n",
            "81 ST-MUSEUM     BC               442\n",
            "82 ST-JACKSON H  7                442\n",
            "85 ST-FOREST PK  J                441\n",
            "86 ST            1                443\n",
            "                 456              441\n",
            "                 BC               441\n",
            "                 N                443\n",
            "                 R                442\n",
            "86 ST-2 AVE      Q                440\n",
            "88 ST            A                443\n",
            "9 AV             D                443\n",
            "90 ST-ELMHURST   7                443\n",
            "96 ST            123              440\n",
            "                 6                443\n",
            "                 BC               443\n",
            "96 ST-2 AVE      Q                440\n",
            "9TH STREET       1                443\n",
            "ALABAMA AV       J                443\n",
            "ALLERTON AV      25               443\n",
            "AQUEDUCT N.COND  A                440\n",
            "AQUEDUCT RACETR  A                443\n",
            "ASTOR PL         6                441\n",
            "ASTORIA BLVD     NQW              441\n",
            "ASTORIA DITMARS  NQW              443\n",
            "ATL AV-BARCLAY   2345BDNQR        883\n",
            "ATLANTIC AV      L                443\n",
            "AVENUE H         BQ               443\n",
            "AVENUE I         F                442\n",
            "AVENUE J         BQ               443\n",
            "AVENUE M         BQ               441\n",
            "AVENUE N         F                443\n",
            "AVENUE P         F                443\n",
            "AVENUE U         BQ               443\n",
            "                 F                443\n",
            "                 N                442\n",
            "AVENUE X         F                442\n",
            "B'WAY-LAFAYETTE  BDFQ6            438\n",
            "BAY 50 ST        D                443\n",
            "BAY PKWY         D                442\n",
            "                 F                443\n",
            "                 N                442\n",
            "BAY RIDGE AV     R                443\n",
            "BAY RIDGE-95 ST  R                440\n",
            "BAYCHESTER AV    5                443\n",
            "BEACH 105 ST     AS               443\n",
            "BEACH 25 ST      A                442\n",
            "BEACH 36 ST      A                443\n",
            "BEACH 44 ST      A                443\n",
            "BEACH 60 ST      A                443\n",
            "BEACH 67 ST      A                443\n",
            "BEACH 90 ST      AS               443\n",
            "BEACH 98 ST      AS               443\n",
            "BEDFORD AV       L                440\n",
            "BEDFORD PK BLVD  4                443\n",
            "                 BD               443\n",
            "BEDFORD-NOSTRAN  G                443\n",
            "BERGEN ST        23               443\n",
            "                 FG               442\n",
            "BEVERLEY ROAD    BQ               443\n",
            "BEVERLY RD       25               443\n",
            "BLEECKER ST      6DF              443\n",
            "BOROUGH HALL     2345R            885\n",
            "BOTANIC GARDEN   S2345            443\n",
            "BOWERY           JZ               442\n",
            "BOWLING GREEN    45               441\n",
            "BRIARWOOD        EF               443\n",
            "BRIGHTON BEACH   BQ               443\n",
            "BROAD CHANNEL    AS               443\n",
            "BROAD ST         JZ               442\n",
            "BROADWAY         G                443\n",
            "                 NQW              442\n",
            "BROADWAY JCT     ACJLZ            442\n",
            "BRONX PARK EAST  25               443\n",
            "BROOK AV         6                443\n",
            "BROOKLYN BRIDGE  456JZ            443\n",
            "BUHRE AV         6                443\n",
            "BURKE AV         25               443\n",
            "BURNSIDE AV      4                443\n",
            "BUSHWICK AV      L                443\n",
            "CANAL ST         1                443\n",
            "                 ACE              441\n",
            "                 JNQRZ6W          442\n",
            "CANARSIE-ROCKAW  L                436\n",
            "CARROLL ST       FG               442\n",
            "CASTLE HILL AV   6                443\n",
            "CATHEDRAL PKWY   1                442\n",
            "                 BC               441\n",
            "CENTRAL AV       M                443\n",
            "CENTRAL PK N110  23               443\n",
            "CHAMBERS ST      123              442\n",
            "                 ACE23            439\n",
            "                 JZ456            443\n",
            "CHAUNCEY ST      JZ               441\n",
            "CHRISTOPHER ST   1                442\n",
            "CHURCH AV        25               443\n",
            "                 BQ               442\n",
            "                 FG               442\n",
            "CITY / BUS       1                443\n",
            "CITY HALL        NRW              441\n",
            "CLARK ST         23               443\n",
            "CLASSON AV       G                443\n",
            "CLEVELAND ST     J                443\n",
            "CLINTON-WASH AV  C                443\n",
            "                 G                443\n",
            "CONEY IS-STILLW  DFNQ             443\n",
            "CORTELYOU RD     BQ               443\n",
            "CORTLANDT ST     RNW              440\n",
            "COURT SQ         7                443\n",
            "                 EMG              442\n",
            "COURT SQ-23 ST   EMG              443\n",
            "CRESCENT ST      JZ               442\n",
            "CROWN HTS-UTICA  34               442\n",
            "CYPRESS AV       6                443\n",
            "CYPRESS HILLS    J                443\n",
            "DEKALB AV        BDNQR            443\n",
            "                 L                441\n",
            "DELANCEY/ESSEX   FJMZ             441\n",
            "DITMAS AV        F                442\n",
            "DYCKMAN ST       1                443\n",
            "                 A                443\n",
            "E 143/ST MARY'S  6                443\n",
            "E 149 ST         6                438\n",
            "E 180 ST         25               442\n",
            "EAST 105 ST      L                443\n",
            "EAST BROADWAY    F                443\n",
            "EASTCHSTER/DYRE  5                443\n",
            "EASTN PKWY-MUSM  23               442\n",
            "ELDER AV         6                442\n",
            "ELMHURST AV      MR               443\n",
            "EUCLID AV        AC               442\n",
            "EXCHANGE PLACE   1                443\n",
            "FAR ROCKAWAY     A                443\n",
            "FLATBUSH AV-B.C  25               441\n",
            "FLUSHING AV      G                443\n",
            "                 JM               437\n",
            "FLUSHING-MAIN    7                440\n",
            "FORDHAM RD       4                443\n",
            "                 BD               441\n",
            "FOREST AVE       M                443\n",
            "FOREST HILLS 71  EFMR             441\n",
            "FRANKLIN AV      2345S            442\n",
            "                 ACS              441\n",
            "FRANKLIN ST      1                442\n",
            "FREEMAN ST       25               443\n",
            "FRESH POND RD    M                443\n",
            "FT HAMILTON PKY  D                443\n",
            "                 FG               442\n",
            "                 N                443\n",
            "FULTON ST        2345ACJZ         875\n",
            "                 G                443\n",
            "GATES AV         JZ               442\n",
            "GRAHAM AV        L                443\n",
            "GRAND ARMY PLAZ  23               442\n",
            "GRAND ST         BD               442\n",
            "                 L                443\n",
            "GRAND-NEWTOWN    MR               443\n",
            "GRANT AV         A                443\n",
            "GRD CNTRL-42 ST  4567S            435\n",
            "GREENPOINT AV    G                443\n",
            "GROVE STREET     1                443\n",
            "GUN HILL RD      25               442\n",
            "                 5                440\n",
            "HALSEY ST        J                442\n",
            "                 L                442\n",
            "HARLEM 148 ST    3                443\n",
            "HARRISON         1                443\n",
            "HEWES ST         JM               443\n",
            "HIGH ST          AC               442\n",
            "HOUSTON ST       1                443\n",
            "HOWARD BCH JFK   A                441\n",
            "HOYT ST          23               441\n",
            "HOYT-SCHER       ACG              443\n",
            "HUNTERS PT AV    7                441\n",
            "HUNTS POINT AV   6                440\n",
            "INTERVALE AV     25               443\n",
            "INWOOD-207 ST    A                443\n",
            "JACKSON AV       25               443\n",
            "JAMAICA 179 ST   F                442\n",
            "JAMAICA CENTER   EJZ              441\n",
            "JAMAICA VAN WK   E                441\n",
            "JAY ST-METROTEC  ACF              439\n",
            "                 R                443\n",
            "JEFFERSON ST     L                442\n",
            "JFK JAMAICA CT1  E                443\n",
            "JKSN HT-ROOSVLT  EFMR7            440\n",
            "JOURNAL SQUARE   1                443\n",
            "JUNCTION BLVD    7                442\n",
            "JUNIUS ST        3                443\n",
            "KEW GARDENS      EF               443\n",
            "KINGS HWY        BQ               442\n",
            "                 F                443\n",
            "                 N                443\n",
            "KINGSBRIDGE RD   4                443\n",
            "                 BD               442\n",
            "KINGSTON AV      3                442\n",
            "KINGSTON-THROOP  C                442\n",
            "KNICKERBOCKER    M                443\n",
            "KOSCIUSZKO ST    J                443\n",
            "LACKAWANNA       1                443\n",
            "LAFAYETTE AV     C                440\n",
            "LEXINGTON AV/53  EM6              438\n",
            "LEXINGTON AV/63  F                443\n",
            "LIBERTY AV       C                442\n",
            "LIVONIA AV       L                443\n",
            "LONGWOOD AV      6                442\n",
            "LORIMER ST       JM               443\n",
            "                 LG               440\n",
            "MARBLE HILL-225  1                442\n",
            "MARCY AV         JMZ              442\n",
            "METROPOLITAN AV  GL               443\n",
            "                 M                443\n",
            "METS-WILLETS PT  7                440\n",
            "MIDDLETOWN RD    6                443\n",
            "MONTROSE AV      L                443\n",
            "MORGAN AV        L                440\n",
            "MORISN AV/SNDVW  6                443\n",
            "MORRIS PARK      5                441\n",
            "MOSHOLU PKWY     4                443\n",
            "MT EDEN AV       4                443\n",
            "MYRTLE AV        JMZ              443\n",
            "MYRTLE-WILLOUGH  G                442\n",
            "MYRTLE-WYCKOFF   LM               442\n",
            "NASSAU AV        G                442\n",
            "NECK RD          BQ               443\n",
            "NEPTUNE AV       F                443\n",
            "NEREID AV        25               442\n",
            "NEVINS ST        2345             442\n",
            "NEW LOTS         L                442\n",
            "NEW LOTS AV      3                443\n",
            "NEW UTRECHT AV   ND               443\n",
            "NEWARK BM BW     1                443\n",
            "NEWARK C         1                443\n",
            "NEWARK HM HE     1                441\n",
            "NEWARK HW BMEBE  1                443\n",
            "NEWKIRK AV       25               443\n",
            "NEWKIRK PLAZA    BQ               443\n",
            "NORTHERN BLVD    MR               443\n",
            "NORWOOD 205 ST   D                441\n",
            "NORWOOD AV       JZ               443\n",
            "NOSTRAND AV      3                443\n",
            "                 AC               443\n",
            "OCEAN PKWY       Q                441\n",
            "ORCHARD BEACH    6                114\n",
            "OZONE PK LEFFRT  A                443\n",
            "PARK PLACE       23ACE            438\n",
            "                 S                443\n",
            "PARKCHESTER      6                441\n",
            "PARKSIDE AV      BQ               443\n",
            "PARSONS BLVD     F                443\n",
            "PATH NEW WTC     1                442\n",
            "PATH WTC 2       1                442\n",
            "PAVONIA/NEWPORT  1                443\n",
            "PELHAM BAY PARK  6                443\n",
            "PELHAM PKWY      25               441\n",
            "                 5                442\n",
            "PENNSYLVANIA AV  3                443\n",
            "PRESIDENT ST     25               443\n",
            "PRINCE ST        NRW              443\n",
            "PROSPECT AV      25               439\n",
            "                 R                443\n",
            "PROSPECT PARK    BQS              442\n",
            "QUEENS PLAZA     EMR              440\n",
            "QUEENSBORO PLZ   7NQW             443\n",
            "RALPH AV         C                443\n",
            "RECTOR ST        1                443\n",
            "                 NRW              443\n",
            "RIT-MANHATTAN    R                443\n",
            "RIT-ROOSEVELT    R                443\n",
            "ROCKAWAY AV      3                443\n",
            "                 C                441\n",
            "ROCKAWAY BLVD    A                443\n",
            "ROCKAWAY PARK B  AS               443\n",
            "ROOSEVELT ISLND  F                443\n",
            "SARATOGA AV      3                442\n",
            "SENECA AVE       M                443\n",
            "SHEEPSHEAD BAY   BQ               442\n",
            "SHEPHERD AV      C                443\n",
            "SIMPSON ST       25               443\n",
            "SMITH-9 ST       FG               443\n",
            "SOUTH FERRY      1RW              442\n",
            "SPRING ST        6                443\n",
            "                 CE               443\n",
            "ST LAWRENCE AV   6                442\n",
            "ST. GEORGE       1                443\n",
            "STEINWAY ST      MR               443\n",
            "STERLING ST      25               443\n",
            "SUTPHIN BLVD     F                443\n",
            "SUTPHIN-ARCHER   EJZ              443\n",
            "SUTTER AV        L                443\n",
            "SUTTER AV-RUTLD  3                437\n",
            "THIRTY ST        1                443\n",
            "THIRTY THIRD ST  1                443\n",
            "TIMES SQ-42 ST   1237ACENQRSW    1321\n",
            "TOMPKINSVILLE    1                442\n",
            "TREMONT AV       BD               442\n",
            "TWENTY THIRD ST  1                443\n",
            "UNION ST         R                443\n",
            "UTICA AV         AC               443\n",
            "V.CORTLANDT PK   1                443\n",
            "VAN SICLEN AV    3                443\n",
            "                 JZ               442\n",
            "VAN SICLEN AVE   C                443\n",
            "VERNON-JACKSON   7                443\n",
            "W 4 ST-WASH SQ   ABCDEFM          441\n",
            "W 8 ST-AQUARIUM  FQ               443\n",
            "WAKEFIELD/241    2                443\n",
            "WALL ST          23               440\n",
            "                 45               440\n",
            "WEST FARMS SQ    25               442\n",
            "WESTCHESTER SQ   6                443\n",
            "WHITEHALL S-FRY  R1W              441\n",
            "WHITLOCK AV      6                443\n",
            "WILSON AV        L                443\n",
            "WINTHROP ST      25               443\n",
            "WOODHAVEN BLVD   JZ               443\n",
            "                 MR               443\n",
            "WOODLAWN         4                443\n",
            "WORLD TRADE CTR  ACE23            436\n",
            "WTC-CORTLANDT    1                442\n",
            "YORK ST          F                443\n",
            "ZEREGA AV        6                443\n",
            "dtype: int64\n",
            "\n",
            "There are 464 unique values in this list of NYC subway stations and trainlines\n"
          ],
          "name": "stdout"
        }
      ]
    },
    {
      "cell_type": "code",
      "metadata": {
        "colab": {
          "base_uri": "https://localhost:8080/"
        },
        "id": "U4cBBInjbi58",
        "outputId": "695d3893-5fbd-4720-8f12-c5ca3380ef90"
      },
      "source": [
        "# Check info\n",
        "daily_traffic_df.info()"
      ],
      "execution_count": 45,
      "outputs": [
        {
          "output_type": "stream",
          "text": [
            "<class 'pandas.core.frame.DataFrame'>\n",
            "Int64Index: 211351 entries, 0 to 211679\n",
            "Data columns (total 6 columns):\n",
            " #   Column    Non-Null Count   Dtype         \n",
            "---  ------    --------------   -----         \n",
            " 0   station   211351 non-null  object        \n",
            " 1   linename  211351 non-null  object        \n",
            " 2   date      211351 non-null  datetime64[ns]\n",
            " 3   entries   211351 non-null  int64         \n",
            " 4   exits     211351 non-null  int64         \n",
            " 5   concat    211351 non-null  object        \n",
            "dtypes: datetime64[ns](1), int64(2), object(3)\n",
            "memory usage: 11.3+ MB\n"
          ],
          "name": "stdout"
        }
      ]
    },
    {
      "cell_type": "markdown",
      "metadata": {
        "id": "lNd2Fw9lmu5v"
      },
      "source": [
        "## Basic visulaizations"
      ]
    },
    {
      "cell_type": "code",
      "metadata": {
        "id": "6ltizu6_mWgN"
      },
      "source": [
        "# Group by date for time-series analysis\n",
        "total_traffic_df = daily_traffic_df.groupby('date').sum().reset_index()"
      ],
      "execution_count": 46,
      "outputs": []
    },
    {
      "cell_type": "code",
      "metadata": {
        "id": "avpeinLpmfNL",
        "colab": {
          "base_uri": "https://localhost:8080/",
          "height": 293
        },
        "outputId": "b96131c8-6228-499f-8b14-656a27562467"
      },
      "source": [
        "# Plot entries over time\n",
        "plt.plot('date', 'entries', data=total_traffic_df)"
      ],
      "execution_count": 47,
      "outputs": [
        {
          "output_type": "execute_result",
          "data": {
            "text/plain": [
              "[<matplotlib.lines.Line2D at 0x7f39523aa2d0>]"
            ]
          },
          "metadata": {
            "tags": []
          },
          "execution_count": 47
        },
        {
          "output_type": "display_data",
          "data": {
            "image/png": "[encoded data removed]",
            "text/plain": [
              "<Figure size 432x288 with 1 Axes>"
            ]
          },
          "metadata": {
            "tags": [],
            "needs_background": "light"
          }
        }
      ]
    },
    {
      "cell_type": "code",
      "metadata": {
        "id": "HqvW-CZ3m-wq",
        "colab": {
          "base_uri": "https://localhost:8080/",
          "height": 293
        },
        "outputId": "55eb1c6e-d6b1-4540-eaca-ec6e7c68d67d"
      },
      "source": [
        "# Plot exits over time\n",
        "plt.plot('date', 'exits', data=total_traffic_df)"
      ],
      "execution_count": 48,
      "outputs": [
        {
          "output_type": "execute_result",
          "data": {
            "text/plain": [
              "[<matplotlib.lines.Line2D at 0x7f39524c37d0>]"
            ]
          },
          "metadata": {
            "tags": []
          },
          "execution_count": 48
        },
        {
          "output_type": "display_data",
          "data": {
            "image/png": "[encoded data removed]",
            "text/plain": [
              "<Figure size 432x288 with 1 Axes>"
            ]
          },
          "metadata": {
            "tags": [],
            "needs_background": "light"
          }
        }
      ]
    },
    {
      "cell_type": "code",
      "metadata": {
        "id": "6KWKqV3z9q39"
      },
      "source": [
        ""
      ],
      "execution_count": 48,
      "outputs": []
    }
  ]
}