{
  "nbformat": 4,
  "nbformat_minor": 0,
  "metadata": {
    "kernelspec": {
      "display_name": "Python 3.7.7 64-bit",
      "language": "python",
      "name": "python37764bit9193f6ad351042c397b3d6817efd27e5"
    },
    "language_info": {
      "codemirror_mode": {
        "name": "ipython",
        "version": 3
      },
      "file_extension": ".py",
      "mimetype": "text/x-python",
      "name": "python",
      "nbconvert_exporter": "python",
      "pygments_lexer": "ipython3",
      "version": "3.7.7"
    },
    "colab": {
      "name": "COVID_19_Impact_on_Movement.ipynb",
      "provenance": [],
      "collapsed_sections": []
    }
  },
  "cells": [
    {
      "cell_type": "code",
      "metadata": {
        "id": "WGy1FfQwNzYg"
      },
      "source": [
        "import pandas as pd\n",
        "import numpy as np\n",
        "import matplotlib.pyplot as plt\n",
        "from datetime import datetime, timedelta"
      ],
      "execution_count": 152,
      "outputs": []
    },
    {
      "cell_type": "code",
      "metadata": {
        "colab": {
          "base_uri": "https://localhost:8080/"
        },
        "id": "-XixsPaOgIVV",
        "outputId": "33b07ae2-5b99-4703-f41e-6ced4c03e2d9"
      },
      "source": [
        "pip install git+git://github.com/VIDA-NYU/openclean.git"
      ],
      "execution_count": 153,
      "outputs": [
        {
          "output_type": "stream",
          "text": [
            "Collecting git+git://github.com/VIDA-NYU/openclean.git\n",
            "  Cloning git://github.com/VIDA-NYU/openclean.git to /tmp/pip-req-build-3e5uep2e\n",
            "  Running command git clone -q git://github.com/VIDA-NYU/openclean.git /tmp/pip-req-build-3e5uep2e\n",
            "  Running command git submodule update --init --recursive -q\n",
            "Requirement already satisfied (use --upgrade to upgrade): openclean==0.1.0 from git+git://github.com/VIDA-NYU/openclean.git in /usr/local/lib/python3.7/dist-packages\n",
            "Requirement already satisfied: openclean-core==0.3.1 in /usr/local/lib/python3.7/dist-packages (from openclean==0.1.0) (0.3.1)\n",
            "Requirement already satisfied: histore==0.3.1 in /usr/local/lib/python3.7/dist-packages (from openclean-core==0.3.1->openclean==0.1.0) (0.3.1)\n",
            "Requirement already satisfied: requests in /usr/local/lib/python3.7/dist-packages (from openclean-core==0.3.1->openclean==0.1.0) (2.23.0)\n",
            "Requirement already satisfied: scikit-learn in /usr/local/lib/python3.7/dist-packages (from openclean-core==0.3.1->openclean==0.1.0) (0.22.2.post1)\n",
            "Requirement already satisfied: jellyfish in /usr/local/lib/python3.7/dist-packages (from openclean-core==0.3.1->openclean==0.1.0) (0.8.2)\n",
            "Requirement already satisfied: dill in /usr/local/lib/python3.7/dist-packages (from openclean-core==0.3.1->openclean==0.1.0) (0.3.3)\n",
            "Requirement already satisfied: flowserv-core>=0.8.0 in /usr/local/lib/python3.7/dist-packages (from openclean-core==0.3.1->openclean==0.1.0) (0.8.0)\n",
            "Requirement already satisfied: jsonschema>=3.2.0 in /usr/local/lib/python3.7/dist-packages (from openclean-core==0.3.1->openclean==0.1.0) (3.2.0)\n",
            "Requirement already satisfied: future in /usr/local/lib/python3.7/dist-packages (from openclean-core==0.3.1->openclean==0.1.0) (0.16.0)\n",
            "Requirement already satisfied: refdata>=0.2.0 in /usr/local/lib/python3.7/dist-packages (from openclean-core==0.3.1->openclean==0.1.0) (0.2.0)\n",
            "Requirement already satisfied: python-dateutil in /usr/local/lib/python3.7/dist-packages (from openclean-core==0.3.1->openclean==0.1.0) (2.8.1)\n",
            "Requirement already satisfied: appdirs>=1.4.4 in /usr/local/lib/python3.7/dist-packages (from openclean-core==0.3.1->openclean==0.1.0) (1.4.4)\n",
            "Requirement already satisfied: scipy in /usr/local/lib/python3.7/dist-packages (from openclean-core==0.3.1->openclean==0.1.0) (1.4.1)\n",
            "Requirement already satisfied: pandas>=1.0.0 in /usr/local/lib/python3.7/dist-packages (from openclean-core==0.3.1->openclean==0.1.0) (1.1.5)\n",
            "Requirement already satisfied: psutil in /usr/local/lib/python3.7/dist-packages (from histore==0.3.1->openclean-core==0.3.1->openclean==0.1.0) (5.4.8)\n",
            "Requirement already satisfied: pyyaml in /usr/local/lib/python3.7/dist-packages (from histore==0.3.1->openclean-core==0.3.1->openclean==0.1.0) (5.4.1)\n",
            "Requirement already satisfied: Click>=7.0 in /usr/local/lib/python3.7/dist-packages (from histore==0.3.1->openclean-core==0.3.1->openclean==0.1.0) (7.1.2)\n",
            "Requirement already satisfied: SQLAlchemy>=1.3.18 in /usr/local/lib/python3.7/dist-packages (from histore==0.3.1->openclean-core==0.3.1->openclean==0.1.0) (1.4.3)\n",
            "Requirement already satisfied: certifi>=2017.4.17 in /usr/local/lib/python3.7/dist-packages (from requests->openclean-core==0.3.1->openclean==0.1.0) (2020.12.5)\n",
            "Requirement already satisfied: urllib3!=1.25.0,!=1.25.1,<1.26,>=1.21.1 in /usr/local/lib/python3.7/dist-packages (from requests->openclean-core==0.3.1->openclean==0.1.0) (1.24.3)\n",
            "Requirement already satisfied: idna<3,>=2.5 in /usr/local/lib/python3.7/dist-packages (from requests->openclean-core==0.3.1->openclean==0.1.0) (2.10)\n",
            "Requirement already satisfied: chardet<4,>=3.0.2 in /usr/local/lib/python3.7/dist-packages (from requests->openclean-core==0.3.1->openclean==0.1.0) (3.0.4)\n",
            "Requirement already satisfied: numpy>=1.11.0 in /usr/local/lib/python3.7/dist-packages (from scikit-learn->openclean-core==0.3.1->openclean==0.1.0) (1.19.5)\n",
            "Requirement already satisfied: joblib>=0.11 in /usr/local/lib/python3.7/dist-packages (from scikit-learn->openclean-core==0.3.1->openclean==0.1.0) (1.0.1)\n",
            "Requirement already satisfied: gitpython in /usr/local/lib/python3.7/dist-packages (from flowserv-core>=0.8.0->openclean-core==0.3.1->openclean==0.1.0) (3.1.14)\n",
            "Requirement already satisfied: passlib in /usr/local/lib/python3.7/dist-packages (from flowserv-core>=0.8.0->openclean-core==0.3.1->openclean==0.1.0) (1.7.4)\n",
            "Requirement already satisfied: setuptools in /usr/local/lib/python3.7/dist-packages (from jsonschema>=3.2.0->openclean-core==0.3.1->openclean==0.1.0) (54.2.0)\n",
            "Requirement already satisfied: importlib-metadata; python_version < \"3.8\" in /usr/local/lib/python3.7/dist-packages (from jsonschema>=3.2.0->openclean-core==0.3.1->openclean==0.1.0) (3.8.1)\n",
            "Requirement already satisfied: pyrsistent>=0.14.0 in /usr/local/lib/python3.7/dist-packages (from jsonschema>=3.2.0->openclean-core==0.3.1->openclean==0.1.0) (0.17.3)\n",
            "Requirement already satisfied: six>=1.11.0 in /usr/local/lib/python3.7/dist-packages (from jsonschema>=3.2.0->openclean-core==0.3.1->openclean==0.1.0) (1.15.0)\n",
            "Requirement already satisfied: attrs>=17.4.0 in /usr/local/lib/python3.7/dist-packages (from jsonschema>=3.2.0->openclean-core==0.3.1->openclean==0.1.0) (20.3.0)\n",
            "Requirement already satisfied: tableprint in /usr/local/lib/python3.7/dist-packages (from refdata>=0.2.0->openclean-core==0.3.1->openclean==0.1.0) (0.9.1)\n",
            "Requirement already satisfied: pooch>=1.3.0 in /usr/local/lib/python3.7/dist-packages (from refdata>=0.2.0->openclean-core==0.3.1->openclean==0.1.0) (1.3.0)\n",
            "Requirement already satisfied: datasize>=1.0.0 in /usr/local/lib/python3.7/dist-packages (from refdata>=0.2.0->openclean-core==0.3.1->openclean==0.1.0) (1.0.0)\n",
            "Requirement already satisfied: pytz>=2017.2 in /usr/local/lib/python3.7/dist-packages (from pandas>=1.0.0->openclean-core==0.3.1->openclean==0.1.0) (2018.9)\n",
            "Requirement already satisfied: greenlet!=0.4.17; python_version >= \"3\" in /usr/local/lib/python3.7/dist-packages (from SQLAlchemy>=1.3.18->histore==0.3.1->openclean-core==0.3.1->openclean==0.1.0) (1.0.0)\n",
            "Requirement already satisfied: gitdb<5,>=4.0.1 in /usr/local/lib/python3.7/dist-packages (from gitpython->flowserv-core>=0.8.0->openclean-core==0.3.1->openclean==0.1.0) (4.0.7)\n",
            "Requirement already satisfied: typing-extensions>=3.6.4; python_version < \"3.8\" in /usr/local/lib/python3.7/dist-packages (from importlib-metadata; python_version < \"3.8\"->jsonschema>=3.2.0->openclean-core==0.3.1->openclean==0.1.0) (3.7.4.3)\n",
            "Requirement already satisfied: zipp>=0.5 in /usr/local/lib/python3.7/dist-packages (from importlib-metadata; python_version < \"3.8\"->jsonschema>=3.2.0->openclean-core==0.3.1->openclean==0.1.0) (3.4.1)\n",
            "Requirement already satisfied: wcwidth in /usr/local/lib/python3.7/dist-packages (from tableprint->refdata>=0.2.0->openclean-core==0.3.1->openclean==0.1.0) (0.2.5)\n",
            "Requirement already satisfied: packaging in /usr/local/lib/python3.7/dist-packages (from pooch>=1.3.0->refdata>=0.2.0->openclean-core==0.3.1->openclean==0.1.0) (20.9)\n",
            "Requirement already satisfied: smmap<5,>=3.0.1 in /usr/local/lib/python3.7/dist-packages (from gitdb<5,>=4.0.1->gitpython->flowserv-core>=0.8.0->openclean-core==0.3.1->openclean==0.1.0) (4.0.0)\n",
            "Requirement already satisfied: pyparsing>=2.0.2 in /usr/local/lib/python3.7/dist-packages (from packaging->pooch>=1.3.0->refdata>=0.2.0->openclean-core==0.3.1->openclean==0.1.0) (2.4.7)\n",
            "Building wheels for collected packages: openclean\n",
            "  Building wheel for openclean (setup.py) ... \u001b[?25l\u001b[?25hdone\n",
            "  Created wheel for openclean: filename=openclean-0.1.0-cp37-none-any.whl size=4897 sha256=a4babdba8001ad912d72360b8db254c23e638039c8f4c17f6a974c8417c5503e\n",
            "  Stored in directory: /tmp/pip-ephem-wheel-cache-szf4jnmb/wheels/5f/de/0d/3f94f0323cd128a09f597f9c646d4d57e62845deb0136fb223\n",
            "Successfully built openclean\n"
          ],
          "name": "stdout"
        }
      ]
    },
    {
      "cell_type": "markdown",
      "metadata": {
        "id": "qthTCqazNzYm"
      },
      "source": [
        "## Import data"
      ]
    },
    {
      "cell_type": "code",
      "metadata": {
        "id": "gk4kfoBANzYm"
      },
      "source": [
        "# Initialize dataframe with MTA data file from 03/20/2021\n",
        "mta_df = pd.read_csv(\"http://web.mta.info/developers/data/nyct/turnstile/turnstile_210320.txt\")\n",
        "\n",
        "# Encode day of week\n",
        "mta_df['DATE'] = pd.to_datetime(mta_df['DATE'], format=\"%m/%d/%Y\")\n",
        "# mta_df['DAY'] = mta_df['DATE'].apply(lambda x: x.weekday())\n",
        "\n",
        "# # Remove weekdays\n",
        "# mta_df = mta_df[(mta_df['DAY'] == 5) | (mta_df['DAY'] == 6)]"
      ],
      "execution_count": 154,
      "outputs": []
    },
    {
      "cell_type": "code",
      "metadata": {
        "id": "RQyce0K_NzYn"
      },
      "source": [
        "## Read in rest of MTA data, dating back to 01/02/2020 (earliest date in COVID database)\n",
        "\n",
        "# Earliest date in COVID database\n",
        "start_date = datetime(2020, 1, 2)\n",
        "# Up to initial date of mta_df\n",
        "end_date = datetime(2021, 3, 19)\n",
        "\n",
        "# Concatenate data files\n",
        "for i in range(int((end_date - start_date).days)):\n",
        "  curr_date = end_date - timedelta(i)\n",
        "  \n",
        "  try:\n",
        "    # Read in current data file\n",
        "    curr_df = pd.read_csv(\"http://web.mta.info/developers/data/nyct/turnstile/turnstile_{}.txt\".format(curr_date.strftime(\"%y%m%d\")))\n",
        "    # Remove weekdays\n",
        "    curr_df['DATE'] = pd.to_datetime(curr_df['DATE'], format=\"%m/%d/%Y\")\n",
        "    # curr_df['DAY'] = curr_df['DATE'].apply(lambda x: x.weekday())\n",
        "    # curr_df = curr_df[(curr_df['DAY'] == 5) | (curr_df['DAY'] == 6)]\n",
        "  except:\n",
        "    continue\n",
        "  \n",
        "  # Concatenate data files\n",
        "  mta_df = pd.concat([mta_df, curr_df], axis=0)"
      ],
      "execution_count": 155,
      "outputs": []
    },
    {
      "cell_type": "markdown",
      "metadata": {
        "id": "A1XpRmKENzYp"
      },
      "source": [
        "## Preliminary data profiling & cleaning"
      ]
    },
    {
      "cell_type": "code",
      "metadata": {
        "colab": {
          "base_uri": "https://localhost:8080/",
          "height": 204
        },
        "id": "Rm6tLTIcNzYq",
        "outputId": "642ef258-da81-4f55-bd60-e85109d8b72c"
      },
      "source": [
        "# Check rows\n",
        "mta_df.head()"
      ],
      "execution_count": 156,
      "outputs": [
        {
          "output_type": "execute_result",
          "data": {
            "text/html": [
              "<div>\n",
              "<style scoped>\n",
              "    .dataframe tbody tr th:only-of-type {\n",
              "        vertical-align: middle;\n",
              "    }\n",
              "\n",
              "    .dataframe tbody tr th {\n",
              "        vertical-align: top;\n",
              "    }\n",
              "\n",
              "    .dataframe thead th {\n",
              "        text-align: right;\n",
              "    }\n",
              "</style>\n",
              "<table border=\"1\" class=\"dataframe\">\n",
              "  <thead>\n",
              "    <tr style=\"text-align: right;\">\n",
              "      <th></th>\n",
              "      <th>C/A</th>\n",
              "      <th>UNIT</th>\n",
              "      <th>SCP</th>\n",
              "      <th>STATION</th>\n",
              "      <th>LINENAME</th>\n",
              "      <th>DIVISION</th>\n",
              "      <th>DATE</th>\n",
              "      <th>TIME</th>\n",
              "      <th>DESC</th>\n",
              "      <th>ENTRIES</th>\n",
              "      <th>EXITS</th>\n",
              "    </tr>\n",
              "  </thead>\n",
              "  <tbody>\n",
              "    <tr>\n",
              "      <th>0</th>\n",
              "      <td>A002</td>\n",
              "      <td>R051</td>\n",
              "      <td>02-00-00</td>\n",
              "      <td>59 ST</td>\n",
              "      <td>NQR456W</td>\n",
              "      <td>BMT</td>\n",
              "      <td>2021-03-13</td>\n",
              "      <td>03:00:00</td>\n",
              "      <td>REGULAR</td>\n",
              "      <td>7543925</td>\n",
              "      <td>2573549</td>\n",
              "    </tr>\n",
              "    <tr>\n",
              "      <th>1</th>\n",
              "      <td>A002</td>\n",
              "      <td>R051</td>\n",
              "      <td>02-00-00</td>\n",
              "      <td>59 ST</td>\n",
              "      <td>NQR456W</td>\n",
              "      <td>BMT</td>\n",
              "      <td>2021-03-13</td>\n",
              "      <td>07:00:00</td>\n",
              "      <td>REGULAR</td>\n",
              "      <td>7543931</td>\n",
              "      <td>2573559</td>\n",
              "    </tr>\n",
              "    <tr>\n",
              "      <th>2</th>\n",
              "      <td>A002</td>\n",
              "      <td>R051</td>\n",
              "      <td>02-00-00</td>\n",
              "      <td>59 ST</td>\n",
              "      <td>NQR456W</td>\n",
              "      <td>BMT</td>\n",
              "      <td>2021-03-13</td>\n",
              "      <td>11:00:00</td>\n",
              "      <td>REGULAR</td>\n",
              "      <td>7543970</td>\n",
              "      <td>2573622</td>\n",
              "    </tr>\n",
              "    <tr>\n",
              "      <th>3</th>\n",
              "      <td>A002</td>\n",
              "      <td>R051</td>\n",
              "      <td>02-00-00</td>\n",
              "      <td>59 ST</td>\n",
              "      <td>NQR456W</td>\n",
              "      <td>BMT</td>\n",
              "      <td>2021-03-13</td>\n",
              "      <td>15:00:00</td>\n",
              "      <td>REGULAR</td>\n",
              "      <td>7544072</td>\n",
              "      <td>2573700</td>\n",
              "    </tr>\n",
              "    <tr>\n",
              "      <th>4</th>\n",
              "      <td>A002</td>\n",
              "      <td>R051</td>\n",
              "      <td>02-00-00</td>\n",
              "      <td>59 ST</td>\n",
              "      <td>NQR456W</td>\n",
              "      <td>BMT</td>\n",
              "      <td>2021-03-13</td>\n",
              "      <td>19:00:00</td>\n",
              "      <td>REGULAR</td>\n",
              "      <td>7544219</td>\n",
              "      <td>2573729</td>\n",
              "    </tr>\n",
              "  </tbody>\n",
              "</table>\n",
              "</div>"
            ],
            "text/plain": [
              "    C/A  ... EXITS                                                               \n",
              "0  A002  ...                                            2573549                  \n",
              "1  A002  ...                                            2573559                  \n",
              "2  A002  ...                                            2573622                  \n",
              "3  A002  ...                                            2573700                  \n",
              "4  A002  ...                                            2573729                  \n",
              "\n",
              "[5 rows x 11 columns]"
            ]
          },
          "metadata": {
            "tags": []
          },
          "execution_count": 156
        }
      ]
    },
    {
      "cell_type": "code",
      "metadata": {
        "colab": {
          "base_uri": "https://localhost:8080/"
        },
        "id": "QNhjy3m7NzYz",
        "outputId": "47779117-ccbe-47ad-dae2-40babdf7662a"
      },
      "source": [
        "# Check info\n",
        "mta_df.info()"
      ],
      "execution_count": 157,
      "outputs": [
        {
          "output_type": "stream",
          "text": [
            "<class 'pandas.core.frame.DataFrame'>\n",
            "Int64Index: 13330595 entries, 0 to 206498\n",
            "Data columns (total 11 columns):\n",
            " #   Column                                                                Dtype         \n",
            "---  ------                                                                -----         \n",
            " 0   C/A                                                                   object        \n",
            " 1   UNIT                                                                  object        \n",
            " 2   SCP                                                                   object        \n",
            " 3   STATION                                                               object        \n",
            " 4   LINENAME                                                              object        \n",
            " 5   DIVISION                                                              object        \n",
            " 6   DATE                                                                  datetime64[ns]\n",
            " 7   TIME                                                                  object        \n",
            " 8   DESC                                                                  object        \n",
            " 9   ENTRIES                                                               int64         \n",
            " 10  EXITS                                                                 int64         \n",
            "dtypes: datetime64[ns](1), int64(2), object(8)\n",
            "memory usage: 1.2+ GB\n"
          ],
          "name": "stdout"
        }
      ]
    },
    {
      "cell_type": "code",
      "metadata": {
        "id": "oWrunATwNzY0"
      },
      "source": [
        "# Convert column names to lowercase & strip whitespace\n",
        "mta_df.rename(columns=lambda x: x.lower().rstrip(), inplace=True)"
      ],
      "execution_count": 158,
      "outputs": []
    },
    {
      "cell_type": "code",
      "metadata": {
        "id": "OpfLNUm2NzY0"
      },
      "source": [
        "# Reset index values\n",
        "mta_df = mta_df.reset_index(drop=True)"
      ],
      "execution_count": 159,
      "outputs": []
    },
    {
      "cell_type": "code",
      "metadata": {
        "colab": {
          "base_uri": "https://localhost:8080/"
        },
        "id": "XIKFJy_mNzY1",
        "outputId": "7520e87b-c0cb-4d39-ff7f-d7a7c0da0cf8"
      },
      "source": [
        "# Confirm formatting changes\n",
        "mta_df.info()"
      ],
      "execution_count": 160,
      "outputs": [
        {
          "output_type": "stream",
          "text": [
            "<class 'pandas.core.frame.DataFrame'>\n",
            "RangeIndex: 13330595 entries, 0 to 13330594\n",
            "Data columns (total 11 columns):\n",
            " #   Column    Dtype         \n",
            "---  ------    -----         \n",
            " 0   c/a       object        \n",
            " 1   unit      object        \n",
            " 2   scp       object        \n",
            " 3   station   object        \n",
            " 4   linename  object        \n",
            " 5   division  object        \n",
            " 6   date      datetime64[ns]\n",
            " 7   time      object        \n",
            " 8   desc      object        \n",
            " 9   entries   int64         \n",
            " 10  exits     int64         \n",
            "dtypes: datetime64[ns](1), int64(2), object(8)\n",
            "memory usage: 1.1+ GB\n"
          ],
          "name": "stdout"
        }
      ]
    },
    {
      "cell_type": "code",
      "metadata": {
        "colab": {
          "base_uri": "https://localhost:8080/"
        },
        "id": "m2c8PcQLNzY3",
        "outputId": "0a4786ea-6a91-4e79-b908-25fd64b0e9d2"
      },
      "source": [
        "# Extract min date\n",
        "mta_df['date'].min()"
      ],
      "execution_count": 161,
      "outputs": [
        {
          "output_type": "execute_result",
          "data": {
            "text/plain": [
              "Timestamp('2019-12-28 00:00:00')"
            ]
          },
          "metadata": {
            "tags": []
          },
          "execution_count": 161
        }
      ]
    },
    {
      "cell_type": "code",
      "metadata": {
        "id": "sIC1jIcyNzY3"
      },
      "source": [
        "# Remove records whose dates go back too far\n",
        "mta_df = mta_df[mta_df['date'] >= datetime(2020, 1, 2)]"
      ],
      "execution_count": 162,
      "outputs": []
    },
    {
      "cell_type": "code",
      "metadata": {
        "colab": {
          "base_uri": "https://localhost:8080/"
        },
        "id": "IMt7gZ3lNzY3",
        "outputId": "7f636cac-2544-4d07-b88c-88a5594aaa5d"
      },
      "source": [
        "# Confirm acceptable min date\n",
        "mta_df['date'].min()"
      ],
      "execution_count": 163,
      "outputs": [
        {
          "output_type": "execute_result",
          "data": {
            "text/plain": [
              "Timestamp('2020-01-02 00:00:00')"
            ]
          },
          "metadata": {
            "tags": []
          },
          "execution_count": 163
        }
      ]
    },
    {
      "cell_type": "code",
      "metadata": {
        "colab": {
          "base_uri": "https://localhost:8080/"
        },
        "id": "Xdv5n7TONzY5",
        "outputId": "6f110b53-7420-4fa5-c119-1bd23f3780c0"
      },
      "source": [
        "# Inspect station names\n",
        "pd.set_option('max_rows', None)\n",
        "mta_df['station'].value_counts()"
      ],
      "execution_count": 164,
      "outputs": [
        {
          "output_type": "execute_result",
          "data": {
            "text/plain": [
              "34 ST-PENN STA     266676\n",
              "FULTON ST          256070\n",
              "GRD CNTRL-42 ST    214262\n",
              "23 ST              193872\n",
              "86 ST              170689\n",
              "CANAL ST           153816\n",
              "CHAMBERS ST        145630\n",
              "34 ST-HERALD SQ    144036\n",
              "59 ST              136657\n",
              "42 ST-PORT AUTH    135380\n",
              "14 ST              135314\n",
              "ATL AV-BARCLAY     133386\n",
              "WALL ST            131817\n",
              "TIMES SQ-42 ST     117402\n",
              "125 ST             113919\n",
              "PATH NEW WTC       113640\n",
              "14 ST-UNION SQ     109069\n",
              "59 ST COLUMBUS     108924\n",
              "CORTLANDT ST       103357\n",
              "28 ST              102942\n",
              "JAY ST-METROTEC    100603\n",
              "CHURCH AV           98422\n",
              "96 ST               98356\n",
              "161/YANKEE STAD     98240\n",
              "47-50 STS ROCK      96560\n",
              "50 ST               95751\n",
              "METS-WILLETS PT     94401\n",
              "WTC-CORTLANDT       93011\n",
              "LEXINGTON AV/53     85150\n",
              "KINGS HWY           79789\n",
              "34 ST-HUDSON YD     79121\n",
              "BOWLING GREEN       77368\n",
              "72 ST               77103\n",
              "JAMAICA 179 ST      76736\n",
              "BOROUGH HALL        72853\n",
              "FLUSHING-MAIN       69680\n",
              "8 AV                68695\n",
              "ST. GEORGE          68332\n",
              "HARRISON            68221\n",
              "QUEENS PLAZA        67785\n",
              "COURT SQ            65914\n",
              "FOREST HILLS 71     65282\n",
              "JKSN HT-ROOSVLT     64543\n",
              "JOURNAL SQUARE      64167\n",
              "49 ST               63927\n",
              "FT HAMILTON PKY     61294\n",
              "135 ST              61251\n",
              "51 ST               61140\n",
              "66 ST-LINCOLN       60834\n",
              "33 ST               58950\n",
              "116 ST              58595\n",
              "LACKAWANNA          57738\n",
              "CITY / BUS          57448\n",
              "JAMAICA CENTER      56846\n",
              "SOUTH FERRY         56281\n",
              "42 ST-BRYANT PK     56129\n",
              "5 AV/53 ST          55771\n",
              "7 AV                55708\n",
              "BERGEN ST           55481\n",
              "DEKALB AV           55122\n",
              "CONEY IS-STILLW     53926\n",
              "KEW GARDENS         53642\n",
              "FLATBUSH AV-B.C     53469\n",
              "57 ST-7 AV          53073\n",
              "RECTOR ST           53048\n",
              "145 ST              52970\n",
              "168 ST              52831\n",
              "EXCHANGE PLACE      52709\n",
              "B'WAY-LAFAYETTE     52551\n",
              "1 AV                52164\n",
              "METROPOLITAN AV     51433\n",
              "BAY PKWY            50950\n",
              "CLINTON-WASH AV     50857\n",
              "AVENUE U            50834\n",
              "DELANCEY/ESSEX      50552\n",
              "W 4 ST-WASH SQ      50530\n",
              "77 ST               50451\n",
              "LEXINGTON AV/63     50319\n",
              "CROWN HTS-UTICA     49263\n",
              "GROVE STREET        48187\n",
              "18 AV               47829\n",
              "WORLD TRADE CTR     47393\n",
              "WOODHAVEN BLVD      46561\n",
              "KINGSBRIDGE RD      45606\n",
              "NEWARK BM BW        45351\n",
              "FRANKLIN AV         45333\n",
              "NEWARK C            45259\n",
              "NEWARK HW BMEBE     45246\n",
              "BROOKLYN BRIDGE     45231\n",
              "72 ST-2 AVE         45155\n",
              "MARCY AV            45110\n",
              "THIRTY THIRD ST     45094\n",
              "NEWARK HM HE        44931\n",
              "FLUSHING AV         44807\n",
              "THIRTY ST           44314\n",
              "111 ST              42719\n",
              "96 ST-2 AVE         42646\n",
              "36 ST               42535\n",
              "57 ST               42510\n",
              "HOUSTON ST          42453\n",
              "175 ST              42330\n",
              "FORDHAM RD          42253\n",
              "HOWARD BCH JFK      41471\n",
              "SUTPHIN-ARCHER      41461\n",
              "169 ST              41286\n",
              "WHITEHALL S-FRY     40519\n",
              "AVENUE H            40297\n",
              "63 DR-REGO PARK     40227\n",
              "103 ST              39942\n",
              "46 ST               39852\n",
              "86 ST-2 AVE         39830\n",
              "3 AV-149 ST         39313\n",
              "BEDFORD AV          38358\n",
              "NASSAU AV           38245\n",
              "170 ST              38227\n",
              "GRAND ST            37284\n",
              "5 AV/59 ST          37229\n",
              "68ST-HUNTER CO      37207\n",
              "79 ST               37205\n",
              "CATHEDRAL PKWY      37171\n",
              "SPRING ST           37141\n",
              "BRIGHTON BEACH      37124\n",
              "ASTORIA BLVD        37062\n",
              "VERNON-JACKSON      35048\n",
              "AVENUE J            34689\n",
              "ROCKAWAY AV         34599\n",
              "MYRTLE-WYCKOFF      34527\n",
              "NEW UTRECHT AV      34488\n",
              "PROSPECT AV         34131\n",
              "PARSONS BLVD        34032\n",
              "BEDFORD PK BLVD     33943\n",
              "8 ST-NYU            33554\n",
              "UTICA AV            33350\n",
              "15 ST-PROSPECT      32410\n",
              "61 ST WOODSIDE      32127\n",
              "ELMHURST AV         32099\n",
              "JUNCTION BLVD       32083\n",
              "PARKCHESTER         32038\n",
              "46 ST BLISS ST      32000\n",
              "ASTOR PL            31930\n",
              "LORIMER ST          31913\n",
              "BROAD ST            31910\n",
              "GRAND-NEWTOWN       31846\n",
              "PELHAM PKWY         31800\n",
              "HOYT ST             31780\n",
              "CANARSIE-ROCKAW     31681\n",
              "GREENPOINT AV       31358\n",
              "4AV-9 ST            30111\n",
              "NOSTRAND AV         29940\n",
              "EAST BROADWAY       29408\n",
              "167 ST              29224\n",
              "HALSEY ST           29204\n",
              "CARROLL ST          29171\n",
              "INWOOD-207 ST       29160\n",
              "GUN HILL RD         29139\n",
              "181 ST              28170\n",
              "BROADWAY            28065\n",
              "14TH STREET         27363\n",
              "82 ST-JACKSON H     27140\n",
              "SUTPHIN BLVD        26862\n",
              "LAFAYETTE AV        26783\n",
              "67 AV               26747\n",
              "HUNTERS PT AV       26737\n",
              "PRINCE ST           26703\n",
              "137 ST CITY COL     26700\n",
              "33 ST-RAWSON ST     26698\n",
              "OZONE PK LEFFRT     26673\n",
              "HUNTS POINT AV      26615\n",
              "5 AVE               26589\n",
              "SIMPSON ST          26556\n",
              "2 AV                26554\n",
              "AVENUE M            26536\n",
              "75 AV               26525\n",
              "231 ST              26468\n",
              "81 ST-MUSEUM        26404\n",
              "CHRISTOPHER ST      26021\n",
              "JFK JAMAICA CT1     26004\n",
              "90 ST-ELMHURST      24744\n",
              "BLEECKER ST         24415\n",
              "BAY RIDGE-95 ST     24212\n",
              "PARK PLACE          24143\n",
              "NEVINS ST           24111\n",
              "SHEEPSHEAD BAY      24076\n",
              "104 ST              24045\n",
              "ROCKAWAY BLVD       23976\n",
              "CITY HALL           23969\n",
              "103 ST-CORONA       23963\n",
              "174-175 STS         23934\n",
              "MOSHOLU PKWY        23930\n",
              "STEINWAY ST         23926\n",
              "NORTHERN BLVD       23923\n",
              "TREMONT AV          23890\n",
              "DYCKMAN ST          23872\n",
              "PELHAM BAY PARK     23863\n",
              "WEST FARMS SQ       23648\n",
              "NEWKIRK AV          23238\n",
              "TWENTY THIRD ST     22154\n",
              "PAVONIA/NEWPORT     21887\n",
              "FRESH POND RD       21728\n",
              "155 ST              21604\n",
              "BAY RIDGE AV        21357\n",
              "EASTN PKWY-MUSM     21346\n",
              "NORWOOD 205 ST      21343\n",
              "PROSPECT PARK       21338\n",
              "53 ST               21314\n",
              "BRIARWOOD           21298\n",
              "69 ST               21292\n",
              "163 ST-AMSTERDM     21290\n",
              "EUCLID AV           21254\n",
              "18 ST               21253\n",
              "W 8 ST-AQUARIUM     21248\n",
              "FRANKLIN ST         21213\n",
              "ASTORIA DITMARS     21125\n",
              "157 ST              21084\n",
              "DITMAS AV           21013\n",
              "AVENUE N            18946\n",
              "FAR ROCKAWAY        18807\n",
              "HEWES ST            18797\n",
              "9 AV                18794\n",
              "BEDFORD-NOSTRAN     18671\n",
              "BROADWAY JCT        18661\n",
              "30 AV               18660\n",
              "NECK RD             18622\n",
              "BROOK AV            18609\n",
              "20 AV               18609\n",
              "VAN SICLEN AV       18596\n",
              "JAMAICA VAN WK      18588\n",
              "149/GRAND CONC      18581\n",
              "TOMPKINSVILLE       18576\n",
              "CASTLE HILL AV      18568\n",
              "80 ST               18541\n",
              "MYRTLE-WILLOUGH     18462\n",
              "OCEAN PKWY          18317\n",
              "GRAHAM AV           16598\n",
              "36 AV               16407\n",
              "ST LAWRENCE AV      16297\n",
              "MORGAN AV           16246\n",
              "21 ST-QNSBRIDGE     16192\n",
              "QUEENSBORO PLZ      16151\n",
              "40 ST LOWERY ST     16148\n",
              "SUTTER AV-RUTLD     16097\n",
              "KINGSTON-THROOP     16039\n",
              "25 ST               15997\n",
              "NEW LOTS AV         15973\n",
              "RIT-ROOSEVELT       15970\n",
              "SMITH-9 ST          15964\n",
              "ROOSEVELT ISLND     15960\n",
              "ELDER AV            15957\n",
              "HIGH ST             15956\n",
              "CENTRAL PK N110     15946\n",
              "110 ST              15944\n",
              "MIDDLETOWN RD       15942\n",
              "E 180 ST            15940\n",
              "E 143/ST MARY'S     15936\n",
              "3 AV                15936\n",
              "ZEREGA AV           15933\n",
              "121 ST              15930\n",
              "CYPRESS AV          15927\n",
              "WHITLOCK AV         15927\n",
              "174 ST              15922\n",
              "UNION ST            15921\n",
              "39 AV               15920\n",
              "BUHRE AV            15920\n",
              "FREEMAN ST          15913\n",
              "238 ST              15889\n",
              "AQUEDUCT RACETR     15881\n",
              "52 ST               15874\n",
              "207 ST              15869\n",
              "MORISN AV/SNDVW     15857\n",
              "116 ST-COLUMBIA     15826\n",
              "E 149 ST            15786\n",
              "LONGWOOD AV         14766\n",
              "75 ST-ELDERTS       13874\n",
              "NEWKIRK PLAZA       13593\n",
              "BEACH 90 ST         13523\n",
              "BEACH 60 ST         13443\n",
              "AVENUE I            13429\n",
              "JEFFERSON ST        13390\n",
              "BEACH 44 ST         13368\n",
              "HOYT-SCHER          13365\n",
              "BEACH 98 ST         13351\n",
              "LIVONIA AV          13343\n",
              "BEACH 67 ST         13335\n",
              "74 ST-BROADWAY      13322\n",
              "71 ST               13302\n",
              "WOODLAWN            13299\n",
              "233 ST              13296\n",
              "6 AV                13285\n",
              "WILSON AV           13283\n",
              "BEACH 25 ST         13279\n",
              "ROCKAWAY PARK B     13279\n",
              "SARATOGA AV         13277\n",
              "WAKEFIELD/241       13268\n",
              "BEACH 105 ST        13265\n",
              "BEACH 36 ST         13263\n",
              "JACKSON AV          13257\n",
              "MARBLE HILL-225     13249\n",
              "AQUEDUCT N.COND     13245\n",
              "EASTCHSTER/DYRE     13242\n",
              "BURNSIDE AV         12808\n",
              "PATH WTC 2          12423\n",
              "9TH STREET          12411\n",
              "COURT SQ-23 ST      12077\n",
              "45 ST               10897\n",
              "WINTHROP ST         10762\n",
              "SENECA AVE          10700\n",
              "85 ST-FOREST PK     10687\n",
              "KNICKERBOCKER       10681\n",
              "CLARK ST            10676\n",
              "CENTRAL AV          10665\n",
              "MYRTLE AV           10661\n",
              "JUNIUS ST           10647\n",
              "RALPH AV            10645\n",
              "BEVERLY RD          10642\n",
              "EAST 105 ST         10641\n",
              "PENNSYLVANIA AV     10636\n",
              "GRAND ARMY PLAZ     10634\n",
              "4 AV-9 ST           10634\n",
              "183 ST              10630\n",
              "3 AV 138 ST         10627\n",
              "BOTANIC GARDEN      10615\n",
              "RIT-MANHATTAN       10614\n",
              "GRANT AV            10613\n",
              "V.CORTLANDT PK      10595\n",
              "MT EDEN AV          10589\n",
              "191 ST              10577\n",
              "215 ST              10406\n",
              "176 ST              10380\n",
              "BAY 50 ST            8212\n",
              "NORWOOD AV           8206\n",
              "MONTROSE AV          8116\n",
              "CRESCENT ST          8070\n",
              "219 ST               8054\n",
              "PRESIDENT ST         8053\n",
              "STERLING ST          8036\n",
              "HARLEM 148 ST        8012\n",
              "65 ST                8007\n",
              "25 AV                8004\n",
              "VAN SICLEN AVE       7992\n",
              "GATES AV             7991\n",
              "21 ST                7983\n",
              "190 ST               7980\n",
              "NEPTUNE AV           7979\n",
              "225 ST               7978\n",
              "ALLERTON AV          7976\n",
              "PARKSIDE AV          7976\n",
              "YORK ST              7975\n",
              "ALABAMA AV           7974\n",
              "BEVERLEY ROAD        7974\n",
              "FOREST AVE           7974\n",
              "AVENUE P             7973\n",
              "BOWERY               7972\n",
              "AVENUE X             7971\n",
              "KOSCIUSZKO ST        7971\n",
              "CHAUNCEY ST          7969\n",
              "SHEPHERD AV          7968\n",
              "NEW LOTS             7968\n",
              "BAYCHESTER AV        7968\n",
              "CLASSON AV           7967\n",
              "KINGSTON AV          7967\n",
              "NEREID AV            7967\n",
              "BURKE AV             7966\n",
              "ATLANTIC AV          7966\n",
              "WESTCHESTER SQ       7965\n",
              "INTERVALE AV         7963\n",
              "BROAD CHANNEL        7959\n",
              "LIBERTY AV           7956\n",
              "BUSHWICK AV          7956\n",
              "CORTELYOU RD         7956\n",
              "CYPRESS HILLS        7953\n",
              "55 ST                7949\n",
              "BRONX PARK EAST      7944\n",
              "182-183 STS          7943\n",
              "138/GRAND CONC       7940\n",
              "MORRIS PARK          7935\n",
              "88 ST                7844\n",
              "SUTTER AV            5313\n",
              "CLEVELAND ST         5312\n",
              "ORCHARD BEACH        3385\n",
              "Name: station, dtype: int64"
            ]
          },
          "metadata": {
            "tags": []
          },
          "execution_count": 164
        }
      ]
    },
    {
      "cell_type": "code",
      "metadata": {
        "id": "ajdF51mnNzY5"
      },
      "source": [
        "# `entries` and `exits` are cumulative counts --> aggregate counts to daily by turnstile\n",
        "daily_entries_by_turnstile = mta_df.groupby(['c/a', 'unit', 'scp', 'station','date']).max('entries') - mta_df.groupby(['c/a', 'unit', 'scp', 'station','date']).min('entries')\n",
        "daily_exits_by_turnstile = mta_df.groupby(['c/a', 'unit', 'scp', 'station','date']).max('exits') - mta_df.groupby(['c/a', 'unit', 'scp', 'station','date']).min('exits')"
      ],
      "execution_count": 165,
      "outputs": []
    },
    {
      "cell_type": "code",
      "metadata": {
        "id": "CKRM25KSNzY6"
      },
      "source": [
        "# Flatten dataframes for merge operation\n",
        "daily_entries_by_turnstile.reset_index(inplace=True)\n",
        "daily_exits_by_turnstile.reset_index(inplace=True)"
      ],
      "execution_count": 166,
      "outputs": []
    },
    {
      "cell_type": "code",
      "metadata": {
        "id": "P9c4hwsANzY6"
      },
      "source": [
        "# Group by station, date for aggregate daily count by station\n",
        "daily_traffic_df = pd.merge(daily_entries_by_turnstile, daily_exits_by_turnstile, how='outer').groupby(['station', 'date']).sum().reset_index()"
      ],
      "execution_count": 168,
      "outputs": []
    },
    {
      "cell_type": "code",
      "metadata": {
        "colab": {
          "base_uri": "https://localhost:8080/"
        },
        "id": "YTI-RNz5Qk--",
        "outputId": "f4dfb157-c73b-48d8-ee84-d9854b933b33"
      },
      "source": [
        "daily_traffic_df.info()"
      ],
      "execution_count": 169,
      "outputs": [
        {
          "output_type": "stream",
          "text": [
            "<class 'pandas.core.frame.DataFrame'>\n",
            "RangeIndex: 167522 entries, 0 to 167521\n",
            "Data columns (total 4 columns):\n",
            " #   Column   Non-Null Count   Dtype         \n",
            "---  ------   --------------   -----         \n",
            " 0   station  167522 non-null  object        \n",
            " 1   date     167522 non-null  datetime64[ns]\n",
            " 2   entries  167522 non-null  int64         \n",
            " 3   exits    167522 non-null  int64         \n",
            "dtypes: datetime64[ns](1), int64(2), object(1)\n",
            "memory usage: 5.1+ MB\n"
          ],
          "name": "stdout"
        }
      ]
    },
    {
      "cell_type": "markdown",
      "metadata": {
        "id": "TzSLLSy3NzY9"
      },
      "source": [
        "## Data profiling & cleaning with OpenClean"
      ]
    },
    {
      "cell_type": "code",
      "metadata": {
        "id": "zei8WHnpNzY-"
      },
      "source": [
        "from openclean.pipeline import stream\n",
        "\n",
        "# Create openclean data stream\n",
        "ds = stream(daily_traffic_df)"
      ],
      "execution_count": 170,
      "outputs": []
    },
    {
      "cell_type": "code",
      "metadata": {
        "colab": {
          "base_uri": "https://localhost:8080/",
          "height": 359
        },
        "id": "iiw6fDdtNzY-",
        "outputId": "b854424a-54a0-42f7-a571-ea706433cc9e"
      },
      "source": [
        "# Check rows\n",
        "ds.head()"
      ],
      "execution_count": 171,
      "outputs": [
        {
          "output_type": "execute_result",
          "data": {
            "text/html": [
              "<div>\n",
              "<style scoped>\n",
              "    .dataframe tbody tr th:only-of-type {\n",
              "        vertical-align: middle;\n",
              "    }\n",
              "\n",
              "    .dataframe tbody tr th {\n",
              "        vertical-align: top;\n",
              "    }\n",
              "\n",
              "    .dataframe thead th {\n",
              "        text-align: right;\n",
              "    }\n",
              "</style>\n",
              "<table border=\"1\" class=\"dataframe\">\n",
              "  <thead>\n",
              "    <tr style=\"text-align: right;\">\n",
              "      <th></th>\n",
              "      <th>station</th>\n",
              "      <th>date</th>\n",
              "      <th>entries</th>\n",
              "      <th>exits</th>\n",
              "    </tr>\n",
              "  </thead>\n",
              "  <tbody>\n",
              "    <tr>\n",
              "      <th>0</th>\n",
              "      <td>1 AV</td>\n",
              "      <td>2020-01-02 00:00:00</td>\n",
              "      <td>15135</td>\n",
              "      <td>17646</td>\n",
              "    </tr>\n",
              "    <tr>\n",
              "      <th>1</th>\n",
              "      <td>1 AV</td>\n",
              "      <td>2020-01-03 00:00:00</td>\n",
              "      <td>15611</td>\n",
              "      <td>18266</td>\n",
              "    </tr>\n",
              "    <tr>\n",
              "      <th>2</th>\n",
              "      <td>1 AV</td>\n",
              "      <td>2020-01-04 00:00:00</td>\n",
              "      <td>6015</td>\n",
              "      <td>7119</td>\n",
              "    </tr>\n",
              "    <tr>\n",
              "      <th>3</th>\n",
              "      <td>1 AV</td>\n",
              "      <td>2020-01-05 00:00:00</td>\n",
              "      <td>4724</td>\n",
              "      <td>5530</td>\n",
              "    </tr>\n",
              "    <tr>\n",
              "      <th>4</th>\n",
              "      <td>1 AV</td>\n",
              "      <td>2020-01-06 00:00:00</td>\n",
              "      <td>16263</td>\n",
              "      <td>18641</td>\n",
              "    </tr>\n",
              "    <tr>\n",
              "      <th>5</th>\n",
              "      <td>1 AV</td>\n",
              "      <td>2020-01-07 00:00:00</td>\n",
              "      <td>16612</td>\n",
              "      <td>19372</td>\n",
              "    </tr>\n",
              "    <tr>\n",
              "      <th>6</th>\n",
              "      <td>1 AV</td>\n",
              "      <td>2020-01-08 00:00:00</td>\n",
              "      <td>17206</td>\n",
              "      <td>20275</td>\n",
              "    </tr>\n",
              "    <tr>\n",
              "      <th>7</th>\n",
              "      <td>1 AV</td>\n",
              "      <td>2020-01-09 00:00:00</td>\n",
              "      <td>17463</td>\n",
              "      <td>20072</td>\n",
              "    </tr>\n",
              "    <tr>\n",
              "      <th>8</th>\n",
              "      <td>1 AV</td>\n",
              "      <td>2020-01-10 00:00:00</td>\n",
              "      <td>17642</td>\n",
              "      <td>20489</td>\n",
              "    </tr>\n",
              "    <tr>\n",
              "      <th>9</th>\n",
              "      <td>1 AV</td>\n",
              "      <td>2020-01-11 00:00:00</td>\n",
              "      <td>6971</td>\n",
              "      <td>8220</td>\n",
              "    </tr>\n",
              "  </tbody>\n",
              "</table>\n",
              "</div>"
            ],
            "text/plain": [
              "  station                 date entries  exits\n",
              "0    1 AV  2020-01-02 00:00:00   15135  17646\n",
              "1    1 AV  2020-01-03 00:00:00   15611  18266\n",
              "2    1 AV  2020-01-04 00:00:00    6015   7119\n",
              "3    1 AV  2020-01-05 00:00:00    4724   5530\n",
              "4    1 AV  2020-01-06 00:00:00   16263  18641\n",
              "5    1 AV  2020-01-07 00:00:00   16612  19372\n",
              "6    1 AV  2020-01-08 00:00:00   17206  20275\n",
              "7    1 AV  2020-01-09 00:00:00   17463  20072\n",
              "8    1 AV  2020-01-10 00:00:00   17642  20489\n",
              "9    1 AV  2020-01-11 00:00:00    6971   8220"
            ]
          },
          "metadata": {
            "tags": []
          },
          "execution_count": 171
        }
      ]
    },
    {
      "cell_type": "code",
      "metadata": {
        "id": "jW9Hwo_-NzY_"
      },
      "source": [
        "from openclean.profiling.column import DefaultColumnProfiler\n",
        "\n",
        "# Profile a sample of 10000 rows from dataset\n",
        "profile = ds.sample(n=10000, random_state=42).profile(default_profiler=DefaultColumnProfiler)"
      ],
      "execution_count": 172,
      "outputs": []
    },
    {
      "cell_type": "code",
      "metadata": {
        "colab": {
          "base_uri": "https://localhost:8080/",
          "height": 173
        },
        "id": "7RmH43dYNzY_",
        "outputId": "b927d8f0-9306-4fcd-f401-5d9b065c8143"
      },
      "source": [
        "# Print profiling statistics\n",
        "profile.stats()"
      ],
      "execution_count": 173,
      "outputs": [
        {
          "output_type": "execute_result",
          "data": {
            "text/html": [
              "<div>\n",
              "<style scoped>\n",
              "    .dataframe tbody tr th:only-of-type {\n",
              "        vertical-align: middle;\n",
              "    }\n",
              "\n",
              "    .dataframe tbody tr th {\n",
              "        vertical-align: top;\n",
              "    }\n",
              "\n",
              "    .dataframe thead th {\n",
              "        text-align: right;\n",
              "    }\n",
              "</style>\n",
              "<table border=\"1\" class=\"dataframe\">\n",
              "  <thead>\n",
              "    <tr style=\"text-align: right;\">\n",
              "      <th></th>\n",
              "      <th>total</th>\n",
              "      <th>empty</th>\n",
              "      <th>distinct</th>\n",
              "      <th>uniqueness</th>\n",
              "      <th>entropy</th>\n",
              "    </tr>\n",
              "  </thead>\n",
              "  <tbody>\n",
              "    <tr>\n",
              "      <th>station</th>\n",
              "      <td>10000</td>\n",
              "      <td>0</td>\n",
              "      <td>379</td>\n",
              "      <td>0.0379</td>\n",
              "      <td>8.537717</td>\n",
              "    </tr>\n",
              "    <tr>\n",
              "      <th>date</th>\n",
              "      <td>10000</td>\n",
              "      <td>0</td>\n",
              "      <td>443</td>\n",
              "      <td>0.0443</td>\n",
              "      <td>8.762064</td>\n",
              "    </tr>\n",
              "    <tr>\n",
              "      <th>entries</th>\n",
              "      <td>10000</td>\n",
              "      <td>0</td>\n",
              "      <td>5520</td>\n",
              "      <td>0.5520</td>\n",
              "      <td>12.119437</td>\n",
              "    </tr>\n",
              "    <tr>\n",
              "      <th>exits</th>\n",
              "      <td>10000</td>\n",
              "      <td>0</td>\n",
              "      <td>5313</td>\n",
              "      <td>0.5313</td>\n",
              "      <td>12.059419</td>\n",
              "    </tr>\n",
              "  </tbody>\n",
              "</table>\n",
              "</div>"
            ],
            "text/plain": [
              "         total  empty  distinct  uniqueness    entropy\n",
              "station  10000      0       379      0.0379   8.537717\n",
              "date     10000      0       443      0.0443   8.762064\n",
              "entries  10000      0      5520      0.5520  12.119437\n",
              "exits    10000      0      5313      0.5313  12.059419"
            ]
          },
          "metadata": {
            "tags": []
          },
          "execution_count": 173
        }
      ]
    },
    {
      "cell_type": "code",
      "metadata": {
        "colab": {
          "base_uri": "https://localhost:8080/"
        },
        "id": "_z8fBvn3NzY_",
        "outputId": "8015f231-4ae0-4b39-ce89-3948bc10e21b"
      },
      "source": [
        "from openclean.profiling.anomalies.sklearn import DBSCANOutliers\n",
        "\n",
        "# Search for station entries value outliers\n",
        "DBSCANOutliers(eps=0.02).find(ds.distinct('entries'))"
      ],
      "execution_count": 174,
      "outputs": [
        {
          "output_type": "execute_result",
          "data": {
            "text/plain": [
              "[0,\n",
              " 1,\n",
              " 2,\n",
              " 3,\n",
              " 4,\n",
              " 5,\n",
              " 6,\n",
              " 7,\n",
              " 8,\n",
              " 9,\n",
              " 1111,\n",
              " 11111,\n",
              " 1562922135,\n",
              " 1895331990,\n",
              " 419073952,\n",
              " 11840400,\n",
              " 3657085530,\n",
              " 468497510,\n",
              " 1313111,\n",
              " 1506677570,\n",
              " 1621031101,\n",
              " 631052148,\n",
              " 12524554,\n",
              " 12011219,\n",
              " 10330371,\n",
              " 1224849851,\n",
              " 1131003866]"
            ]
          },
          "metadata": {
            "tags": []
          },
          "execution_count": 174
        }
      ]
    },
    {
      "cell_type": "markdown",
      "metadata": {
        "id": "fm8Da8nxbHMo"
      },
      "source": [
        "Some of these values are nonsensically large. Let's see if we can filter out impossible values."
      ]
    },
    {
      "cell_type": "code",
      "metadata": {
        "colab": {
          "base_uri": "https://localhost:8080/",
          "height": 276
        },
        "id": "_cTEER3zVUJe",
        "outputId": "8dc8d9b0-780e-4f63-c909-b76f5f957735"
      },
      "source": [
        "# Visualize entries values\n",
        "plt.boxplot(daily_traffic_df['entries'])\n",
        "plt.show()"
      ],
      "execution_count": 175,
      "outputs": [
        {
          "output_type": "display_data",
          "data": {
            "image/png": "[encoded data removed]",
            "text/plain": [
              "<Figure size 432x288 with 1 Axes>"
            ]
          },
          "metadata": {
            "tags": [],
            "needs_background": "light"
          }
        }
      ]
    },
    {
      "cell_type": "code",
      "metadata": {
        "id": "0t7DdGgbZkSy"
      },
      "source": [
        "# 8 million people in NYC -> unlikely all of them pass through a single station on a single day. Set 8M as upper bound\n",
        "daily_traffic_df = daily_traffic_df[daily_traffic_df['entries'] <= 800000]\n",
        "\n",
        "# Refresh data stream\n",
        "ds = stream(daily_traffic_df)"
      ],
      "execution_count": 176,
      "outputs": []
    },
    {
      "cell_type": "code",
      "metadata": {
        "colab": {
          "base_uri": "https://localhost:8080/",
          "height": 265
        },
        "id": "YeDNyh5-bvz2",
        "outputId": "b616fd3e-c4dc-460a-8bb5-57d437951761"
      },
      "source": [
        "# Re-visualize outliers\n",
        "plt.boxplot(daily_traffic_df['entries'])\n",
        "plt.show()"
      ],
      "execution_count": 177,
      "outputs": [
        {
          "output_type": "display_data",
          "data": {
            "image/png": "[encoded data removed]",
            "text/plain": [
              "<Figure size 432x288 with 1 Axes>"
            ]
          },
          "metadata": {
            "tags": [],
            "needs_background": "light"
          }
        }
      ]
    },
    {
      "cell_type": "code",
      "metadata": {
        "colab": {
          "base_uri": "https://localhost:8080/"
        },
        "id": "KE70_m_-dara",
        "outputId": "dd7a0b55-5066-43b8-e590-092a0d2989ee"
      },
      "source": [
        "# Search for remaining station entries value outliers\n",
        "DBSCANOutliers().find(ds.distinct('entries'))"
      ],
      "execution_count": 180,
      "outputs": [
        {
          "output_type": "execute_result",
          "data": {
            "text/plain": [
              "[0]"
            ]
          },
          "metadata": {
            "tags": []
          },
          "execution_count": 180
        }
      ]
    },
    {
      "cell_type": "code",
      "metadata": {
        "id": "Bkgk-pdPSXxG",
        "colab": {
          "base_uri": "https://localhost:8080/"
        },
        "outputId": "12622bd3-e782-4406-a898-77a30ecc042f"
      },
      "source": [
        "# Search for station exits value outliers\n",
        "DBSCANOutliers(eps=0.02).find(ds.distinct('exits'))"
      ],
      "execution_count": 181,
      "outputs": [
        {
          "output_type": "execute_result",
          "data": {
            "text/plain": [
              "[0,\n",
              " 1,\n",
              " 1056966762,\n",
              " 11111,\n",
              " 4194640,\n",
              " 22222,\n",
              " 536872013,\n",
              " 4488013,\n",
              " 1222150,\n",
              " 1100799,\n",
              " 3471391,\n",
              " 6555459,\n",
              " 17134387,\n",
              " 285180608,\n",
              " 2725458,\n",
              " 1070316087]"
            ]
          },
          "metadata": {
            "tags": []
          },
          "execution_count": 181
        }
      ]
    },
    {
      "cell_type": "code",
      "metadata": {
        "colab": {
          "base_uri": "https://localhost:8080/",
          "height": 276
        },
        "id": "4W5GS6_oet6c",
        "outputId": "d246675d-8ecb-4dc9-9d59-281084864917"
      },
      "source": [
        "# Visualize exits values\n",
        "plt.boxplot(daily_traffic_df['exits'])\n",
        "plt.show()"
      ],
      "execution_count": 182,
      "outputs": [
        {
          "output_type": "display_data",
          "data": {
            "image/png": "[encoded data removed]",
            "text/plain": [
              "<Figure size 432x288 with 1 Axes>"
            ]
          },
          "metadata": {
            "tags": [],
            "needs_background": "light"
          }
        }
      ]
    },
    {
      "cell_type": "code",
      "metadata": {
        "id": "Gn4w5oRze6Ok"
      },
      "source": [
        "# Again, set 8M as upper bound\n",
        "daily_traffic_df = daily_traffic_df[daily_traffic_df['exits'] <= 800000]\n",
        "\n",
        "# Refresh data stream\n",
        "ds = stream(daily_traffic_df)"
      ],
      "execution_count": 183,
      "outputs": []
    },
    {
      "cell_type": "code",
      "metadata": {
        "colab": {
          "base_uri": "https://localhost:8080/",
          "height": 265
        },
        "id": "BTNPEO0WfDKu",
        "outputId": "89b1dfa9-d9ad-4899-a953-dcab1c7b915c"
      },
      "source": [
        "# Re-visualize outliers\n",
        "plt.boxplot(daily_traffic_df['exits'])\n",
        "plt.show()"
      ],
      "execution_count": 184,
      "outputs": [
        {
          "output_type": "display_data",
          "data": {
            "image/png": "[encoded data removed]",
            "text/plain": [
              "<Figure size 432x288 with 1 Axes>"
            ]
          },
          "metadata": {
            "tags": [],
            "needs_background": "light"
          }
        }
      ]
    },
    {
      "cell_type": "code",
      "metadata": {
        "colab": {
          "base_uri": "https://localhost:8080/"
        },
        "id": "UVsukGuJfJ06",
        "outputId": "806ee13a-b5a2-4f57-8335-e59ea24e05c8"
      },
      "source": [
        "# Search for remaining station exits value outliers\n",
        "DBSCANOutliers().find(ds.distinct('exits'))"
      ],
      "execution_count": 185,
      "outputs": [
        {
          "output_type": "execute_result",
          "data": {
            "text/plain": [
              "[0]"
            ]
          },
          "metadata": {
            "tags": []
          },
          "execution_count": 185
        }
      ]
    },
    {
      "cell_type": "code",
      "metadata": {
        "colab": {
          "base_uri": "https://localhost:8080/"
        },
        "id": "wYbjEoaL_EXd",
        "outputId": "1c8e3b0b-9265-4d03-fa39-b3b672cb5b02"
      },
      "source": [
        "daily_traffic_df.info()"
      ],
      "execution_count": 189,
      "outputs": [
        {
          "output_type": "stream",
          "text": [
            "<class 'pandas.core.frame.DataFrame'>\n",
            "Int64Index: 167195 entries, 0 to 167521\n",
            "Data columns (total 4 columns):\n",
            " #   Column   Non-Null Count   Dtype         \n",
            "---  ------   --------------   -----         \n",
            " 0   station  167195 non-null  object        \n",
            " 1   date     167195 non-null  datetime64[ns]\n",
            " 2   entries  167195 non-null  int64         \n",
            " 3   exits    167195 non-null  int64         \n",
            "dtypes: datetime64[ns](1), int64(2), object(1)\n",
            "memory usage: 6.4+ MB\n"
          ],
          "name": "stdout"
        }
      ]
    },
    {
      "cell_type": "markdown",
      "metadata": {
        "id": "lNd2Fw9lmu5v"
      },
      "source": [
        "## Basic visulaizations"
      ]
    },
    {
      "cell_type": "code",
      "metadata": {
        "id": "6ltizu6_mWgN"
      },
      "source": [
        "# Group by date for time-series analysis\n",
        "total_traffic_df = daily_traffic_df.groupby('date').sum().reset_index()"
      ],
      "execution_count": 186,
      "outputs": []
    },
    {
      "cell_type": "code",
      "metadata": {
        "colab": {
          "base_uri": "https://localhost:8080/",
          "height": 293
        },
        "id": "avpeinLpmfNL",
        "outputId": "835bd3ad-d38e-4a5f-98cd-f5f5ffd471b9"
      },
      "source": [
        "# Plot entries over time\n",
        "plt.plot('date', 'entries', data=total_traffic_df)"
      ],
      "execution_count": 187,
      "outputs": [
        {
          "output_type": "execute_result",
          "data": {
            "text/plain": [
              "[<matplotlib.lines.Line2D at 0x7fb4368f4bd0>]"
            ]
          },
          "metadata": {
            "tags": []
          },
          "execution_count": 187
        },
        {
          "output_type": "display_data",
          "data": {
            "image/png": "[encoded data removed]",
            "text/plain": [
              "<Figure size 432x288 with 1 Axes>"
            ]
          },
          "metadata": {
            "tags": [],
            "needs_background": "light"
          }
        }
      ]
    },
    {
      "cell_type": "code",
      "metadata": {
        "colab": {
          "base_uri": "https://localhost:8080/",
          "height": 293
        },
        "id": "HqvW-CZ3m-wq",
        "outputId": "90745434-656f-46bf-fbcf-17d5170efb64"
      },
      "source": [
        "# Plot exits over time\n",
        "plt.plot('date', 'exits', data=total_traffic_df)"
      ],
      "execution_count": 188,
      "outputs": [
        {
          "output_type": "execute_result",
          "data": {
            "text/plain": [
              "[<matplotlib.lines.Line2D at 0x7fb434a919d0>]"
            ]
          },
          "metadata": {
            "tags": []
          },
          "execution_count": 188
        },
        {
          "output_type": "display_data",
          "data": {
            "image/png": "[encoded data removed]",
            "text/plain": [
              "<Figure size 432x288 with 1 Axes>"
            ]
          },
          "metadata": {
            "tags": [],
            "needs_background": "light"
          }
        }
      ]
    },
    {
      "cell_type": "code",
      "metadata": {
        "id": "6KWKqV3z9q39"
      },
      "source": [
        ""
      ],
      "execution_count": null,
      "outputs": []
    }
  ]
}